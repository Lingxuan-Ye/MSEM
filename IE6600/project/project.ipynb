{
 "cells": [
  {
   "attachments": {},
   "cell_type": "markdown",
   "metadata": {},
   "source": [
    "# IE6600 Project"
   ]
  },
  {
   "attachments": {},
   "cell_type": "markdown",
   "metadata": {},
   "source": [
    "## Group Members\n",
    "\n",
    "- Haoyuan Han\n",
    "- Lingxuan Ye\n",
    "- Mingxiao Liu"
   ]
  },
  {
   "attachments": {},
   "cell_type": "markdown",
   "metadata": {},
   "source": [
    "## Notice\n",
    "\n",
    "All files under\n",
    "\n",
    "- [_data](./_data/)\n",
    "- [_ngrok](./_ngrok/)\n",
    "- [venv](./venv/)\n",
    "\n",
    "are retrieved and/or deployed automatically by [deploy.sh](./scripts/deploy.sh). Please make sure that al scripts are running under its own directory."
   ]
  },
  {
   "attachments": {},
   "cell_type": "markdown",
   "metadata": {},
   "source": [
    "## Environment Requirement\n",
    "\n",
    "This project is deployed locally, please make sure that there are softwares list below in your own machine:\n",
    "\n",
    "- Python Interpret (3.3 and above) with its path in environment variable `$PATH`.\n",
    "\n",
    "- Git with Git-Bash.\n",
    "\n",
    "That’s all."
   ]
  },
  {
   "attachments": {},
   "cell_type": "markdown",
   "metadata": {},
   "source": [
    "## Project Initiating\n",
    "\n",
    "1. Execute [clone.sh](./scripts/utils/clone.sh) under any directory you want. You can find this file on [remote/clone.sh](https://raw.githubusercontent.com/Lingxuan-Ye/IE6600_project/main/scripts/utils/clone.sh), or just input command in your terminal as follow:\n",
    "\n",
    "    ```\n",
    "    git clone https://raw.githubusercontent.com/Lingxuan-Ye/IE6600_project/main/scripts/utils/clone.sh\n",
    "    ```\n",
    "\n",
    "2. Change directory from [project root](./) to [scripts](./scripts/), then execute [deploy.sh](./scripts/deploy.sh).\n",
    "\n",
    "    - Please do not exit process with `CTRL` + `C` unless you know exactly what you are doing.\n",
    "    \n",
    "    - Please set your authtoken unless it is in your global settings. Authtoken registered here will be **ONLY** applicable in this project. If your haven’t set it, ngrok.exe will fail and since I have not figured out how to redirect its stderr yet, it will exit with no prompt.\n",
    "\n",
    "3. Switch back to project root, then execute [run.sh](./run.sh). The public and local urls will be presented on your terminal.\n",
    "\n",
    "    - Please note that the **ngrok** process will run on its own terminal interface, make sure it is properly terminated when you stop running the project."
   ]
  },
  {
   "attachments": {},
   "cell_type": "markdown",
   "metadata": {},
   "source": [
    "## Data Cleaning and Preprocessing"
   ]
  },
  {
   "cell_type": "markdown",
   "metadata": {},
   "source": [
    "### Data Retrieving"
   ]
  },
  {
   "cell_type": "markdown",
   "metadata": {},
   "source": [
    "Initiate an `IO` instance."
   ]
  },
  {
   "cell_type": "code",
   "execution_count": null,
   "metadata": {},
   "outputs": [],
   "source": [
    "from source import IO"
   ]
  },
  {
   "cell_type": "code",
   "execution_count": null,
   "metadata": {},
   "outputs": [],
   "source": [
    "io = IO(data_dir='./_data/', as_NaN=('?',))"
   ]
  },
  {
   "cell_type": "code",
   "execution_count": null,
   "metadata": {},
   "outputs": [],
   "source": [
    "io.raw"
   ]
  },
  {
   "cell_type": "markdown",
   "metadata": {},
   "source": [
    "### Preprocessing"
   ]
  },
  {
   "cell_type": "code",
   "execution_count": null,
   "metadata": {},
   "outputs": [],
   "source": [
    "io.preprocess()\n",
    "io.data"
   ]
  },
  {
   "attachments": {},
   "cell_type": "markdown",
   "metadata": {},
   "source": [
    "We can find out that the dataset has too many invalid values so that the size after dropping rows with `NaN` values is way too small.\n",
    "\n",
    "Consider that the most columns of this dataset are irrelavant to our research, and that rows with `NaN` values only existing in those columns should not be dropped, we should filter the data then preprocess it."
   ]
  },
  {
   "cell_type": "markdown",
   "metadata": {},
   "source": [
    "### Data Filtering"
   ]
  },
  {
   "attachments": {},
   "cell_type": "markdown",
   "metadata": {},
   "source": [
    "Inspect data:"
   ]
  },
  {
   "cell_type": "code",
   "execution_count": null,
   "metadata": {},
   "outputs": [],
   "source": [
    "io.inspection"
   ]
  },
  {
   "attachments": {},
   "cell_type": "markdown",
   "metadata": {},
   "source": [
    "After discussion, our group picked columns listed below:"
   ]
  },
  {
   "cell_type": "code",
   "execution_count": null,
   "metadata": {},
   "outputs": [],
   "source": [
    "GENERAL = ['state', 'population', 'LandArea']\n",
    "ECO = ['medIncome', 'PctPopUnderPov', 'PctUnemployed']\n",
    "# RACE = ['racepctblack', 'racePctWhite', 'racePctAsian', 'racePctHisp']\n",
    "HOMELESS = ['NumInShelters', 'NumStreet']\n",
    "SECURITY = ['LemasPctOfficDrugUn', 'ViolentCrimesPerPop']\n",
    "\n",
    "COLUMNS = [*GENERAL, *ECO, *HOMELESS, *SECURITY]"
   ]
  },
  {
   "attachments": {},
   "cell_type": "markdown",
   "metadata": {},
   "source": [
    "Filter data with chosen columns:"
   ]
  },
  {
   "cell_type": "code",
   "execution_count": null,
   "metadata": {},
   "outputs": [],
   "source": [
    "filtered = io.raw[COLUMNS]"
   ]
  },
  {
   "attachments": {},
   "cell_type": "markdown",
   "metadata": {},
   "source": [
    "Further, for more explict interpretation, we rename column 'state' to 'fips' and insert 'state_name' and 'state_abbr' columns."
   ]
  },
  {
   "cell_type": "code",
   "execution_count": null,
   "metadata": {},
   "outputs": [],
   "source": [
    "import pandas as pd\n",
    "\n",
    "FIPS = pd.read_csv(\n",
    "    './_data/state_fips_master.csv'\n",
    ")[['fips', 'state_name', 'state_abbr']]\n",
    "\n",
    "io.raw = pd.merge(FIPS, filtered.rename({'state': 'fips'}, axis=1))"
   ]
  },
  {
   "cell_type": "markdown",
   "metadata": {},
   "source": [
    "### Preprocessing Again"
   ]
  },
  {
   "cell_type": "code",
   "execution_count": null,
   "metadata": {},
   "outputs": [],
   "source": [
    "io.preprocess()\n",
    "io.data.describe()"
   ]
  },
  {
   "attachments": {},
   "cell_type": "markdown",
   "metadata": {},
   "source": [
    "Due to the large amount of missing data for 'county' and 'community' columns in original dataset, we will **ONLY** consider state-wise visualization. Therefore, we imported [geojson for states](https://raw.githubusercontent.com/PublicaMundi/MappingAPI/master/data/geojson/us-states.json) from GitHub repository [PublicaMundi/MappingAPI](https://github.com/PublicaMundi/MappingAPI/blob/master/data/geojson/us-states.json)."
   ]
  }
 ],
 "metadata": {
  "kernelspec": {
   "display_name": "venv",
   "language": "python",
   "name": "python3"
  },
  "language_info": {
   "codemirror_mode": {
    "name": "ipython",
    "version": 3
   },
   "file_extension": ".py",
   "mimetype": "text/x-python",
   "name": "python",
   "nbconvert_exporter": "python",
   "pygments_lexer": "ipython3",
   "version": "3.11.1 (tags/v3.11.1:a7a450f, Dec  6 2022, 19:58:39) [MSC v.1934 64 bit (AMD64)]"
  },
  "orig_nbformat": 4,
  "vscode": {
   "interpreter": {
    "hash": "92d93334ad4e6cc98f52457904354acd56ab990956bb20cc16b4243dd8855d38"
   }
  }
 },
 "nbformat": 4,
 "nbformat_minor": 2
}
