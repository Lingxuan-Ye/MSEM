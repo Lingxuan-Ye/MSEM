{
  "cells": [
    {
      "cell_type": "code",
      "execution_count": null,
      "metadata": {
        "id": "VWa9hNpnf2cT"
      },
      "outputs": [],
      "source": [
        "#@title Student Information\n",
        "Name = 'Lingxuan Ye' #@param {type:\"string\"}\n",
        "Login_ID = '' #@param {type:\"string\"}\n",
        "SIS_ID = 'value' #@param {type:\"string\"}"
      ]
    },
    {
      "cell_type": "markdown",
      "metadata": {
        "id": "XNRAAOy_49-c"
      },
      "source": [
        "# The JHU COVID Database\n",
        "\n",
        "**Introduction**\n",
        "\n",
        "The Johns Hopkins University maintains an online COVID-19 database that is uplodaded as a public github repo: https://github.com/CSSEGISandData/COVID-19.git. We are interested in mining out some useful information regarding confirmed COVID cases for different countries from this database.\n",
        "\n",
        "In this homework, we only focus on a particular dataset in this database that contains the information on confirmed COVID cases for different countries/regions and provinces/states. \n",
        "\n",
        "We first read out this dataset into a pandas DataFrame:"
      ]
    },
    {
      "cell_type": "code",
      "execution_count": null,
      "metadata": {
        "colab": {
          "base_uri": "https://localhost:8080/",
          "height": 522
        },
        "id": "w6hzr34jw1Rg",
        "outputId": "2d96fd46-8093-4f5a-a177-06d283d28e89"
      },
      "outputs": [],
      "source": [
        "import pandas as pd\n",
        "\n",
        "# pd.set_option(\"display.max_rows\", None)\n",
        "\n",
        "confirmed_global = pd.read_csv(\n",
        "    \"https://raw.githubusercontent.com/CSSEGISandData/COVID-19/master/csse_covid_19_data/csse_covid_19_time_series/time_series_covid19_confirmed_global.csv\"\n",
        "    )\n",
        "\n",
        "confirmed_global"
      ]
    },
    {
      "cell_type": "markdown",
      "metadata": {
        "id": "rnvJSsrS5U9d"
      },
      "source": [
        "**Notes**\n",
        "\n",
        "Descriptions of the columns headers can be found in here: https://github.com/CSSEGISandData/COVID-19/tree/master/csse_covid_19_data#daily-reports-csse_covid_19_daily_reports\n",
        "\n",
        "**Assumptions**\n",
        "\n",
        "For the sake of this homework, let's assume that the numbers under each day are the daily confirmed cases **ONLY** for that specific day (although this appears to be a false assumption).\n",
        "\n",
        "\n",
        "**Homework Requirements**\n",
        "\n",
        "1. Only use the `confirmed_global` DataFrame in this homework set. Do not read in any additional data from the database\n",
        "\n",
        "2. Do **NOT** use the Google `DataTable` in this homework set.\n",
        "\n",
        "3. All the answers have to be generated from your code supplied to this notebook\n",
        "\n",
        "4. Add necessary comments to your code to explain your solutions"
      ]
    },
    {
      "cell_type": "markdown",
      "metadata": {
        "id": "dJlCYdRU6jUl"
      },
      "source": [
        "# Problem 1. Number of Days (1 percentage point)\n",
        "\n",
        "Find how many days of data are there in the `confirmed_global` DataFrame"
      ]
    },
    {
      "cell_type": "code",
      "execution_count": null,
      "metadata": {
        "id": "CCRvJGf77Z78"
      },
      "outputs": [],
      "source": [
        "# Supply your code in this cell. Add more code cells as necessary.\n",
        "# Add necessary comments to your code to explain your solution\n",
        "\n",
        "# number of columns minus 4 (represents the first four columns)\n",
        "num_of_days = confirmed_global.shape[1] - 4  # assign a variable for Problem 6\n",
        "num_of_days"
      ]
    },
    {
      "cell_type": "markdown",
      "metadata": {
        "id": "ZtNqoMrS7jde"
      },
      "source": [
        "# Problem 2. Number of Unique Contry/Region (1 percentage point)\n",
        "\n",
        "Find how many unique Contry/Region's are there in the `confirmed_global` DataFrame\n"
      ]
    },
    {
      "cell_type": "code",
      "execution_count": null,
      "metadata": {
        "id": "so_Nn8QEoU1j"
      },
      "outputs": [],
      "source": [
        "# Supply your code in this cell. Add more code cells as necessary.\n",
        "# Add necessary comments to your code to explain your solution\n",
        "\n",
        "# method `unique` returns unique values of Series object\n",
        "len(confirmed_global.loc[:, \"Country/Region\"].unique())"
      ]
    },
    {
      "cell_type": "markdown",
      "metadata": {
        "id": "RutfrQnj8_Jw"
      },
      "source": [
        "# Problem 3. The US Data (1 percentage point)\n",
        "\n",
        "Extract COVID data for the US from the `confirmed_global` DataFrame"
      ]
    },
    {
      "cell_type": "code",
      "execution_count": null,
      "metadata": {
        "id": "kyJ_YjzbiRe9"
      },
      "outputs": [],
      "source": [
        "# Supply your code in this cell. Add more code cells as necessary.\n",
        "# Add necessary comments to your code to explain your solution\n",
        "\n",
        "the_US_data = confirmed_global.loc[confirmed_global.loc[:, \"Country/Region\"] == \"US\"]\n",
        "the_US_data"
      ]
    },
    {
      "cell_type": "markdown",
      "metadata": {
        "id": "WEEa0ibuL1_u"
      },
      "source": [
        "# Problem 4. Daily Total Confirmed Cases (1 percentage point)\n",
        "\n",
        "Find out the daily total confirmed cases worldwide by summing confirmed cases from all Country/Region for each day in the `confirmed_global` DataFrame"
      ]
    },
    {
      "cell_type": "code",
      "execution_count": null,
      "metadata": {
        "id": "B-jg2uveMhA8"
      },
      "outputs": [],
      "source": [
        "# Supply your code in this cell. Add more code cells as necessary.\n",
        "# Add necessary comments to your code to explain your solution\n",
        "\n",
        "daily_total_comfirmed_cases = pd.concat(\n",
        "    (\n",
        "        confirmed_global.iloc[:, :4],\n",
        "        confirmed_global.iloc[:, 4:].cumsum(axis=1)\n",
        "    ),\n",
        "    axis=1\n",
        ")\n",
        "\n",
        "daily_total_comfirmed_cases"
      ]
    },
    {
      "cell_type": "markdown",
      "metadata": {
        "id": "Vza1phWqT9Xi"
      },
      "source": [
        "# Problem 5. Country/Region with the Least Total Confirmed Cases (1 percentage point)\n",
        "\n",
        "Find out which country/region has the least total confirmed cases. If a country/region has multiple provinces/states, the cases should be summed up for that specific country/region before comparing to other countries/regions\n",
        "\n",
        "**Notes**\n",
        "- \"Total\" means summing over confirmed cases for all days"
      ]
    },
    {
      "cell_type": "code",
      "execution_count": null,
      "metadata": {
        "id": "lAjPdzToUFKl"
      },
      "outputs": [],
      "source": [
        "# Supply your code in this cell. Add more code cells as necessary.\n",
        "# Add necessary comments to your code to explain your solution\n",
        "\n",
        "df_p5 = daily_total_comfirmed_cases.iloc[\n",
        "    :,\n",
        "    [1, -1]\n",
        "    # last column (where index is -1) represents\n",
        "    #total cases in each city up to date\n",
        "].groupby(by=\"Country/Region\").sum()\n",
        "\n",
        "df_p5.columns = (\"Total Confirmed Cases\",)\n",
        "\n",
        "# find row(s) with minimum value\n",
        "df_p5[\n",
        "    df_p5.iloc[:, 0] == df_p5.iloc[:, 0].min()\n",
        "]"
      ]
    },
    {
      "cell_type": "markdown",
      "metadata": {
        "id": "_RO6ak8Wjjku"
      },
      "source": [
        "# Problem 6. Total Confirmed and Daily Average by Country/Region and Province/State (1 percentage point)\n",
        "\n",
        "Calculate the total confirmed cases and daily averages of confirmed cases by Country/Region and Province/State. If a country/region has multiple provinces/states, each province/state of the country/region should have its own total confirmed cases and daily averages.\n",
        "\n",
        "**Notes**\n",
        "- \"Total\" means summing over confirmed cases for all days\n",
        "- \"Daily Average\" means the arithmetic mean of confirmed cases for all days\n",
        "\n",
        "**Hints**\n",
        "\n",
        "1. Index `confirmed_global` by 'Country/Region', 'Province/State', 'Lat', 'Long'. Then calculate total confirmed and daily average from the indexed DataFrame"
      ]
    },
    {
      "cell_type": "code",
      "execution_count": null,
      "metadata": {
        "id": "BMqhnzCJjvUQ"
      },
      "outputs": [],
      "source": [
        "# Supply your code in this cell. Add more code cells as necessary.\n",
        "# Add necessary comments to your code to explain your solution\n",
        "\n",
        "# index = pd.MultiIndex.from_frame(\n",
        "#     daily_total_comfirmed_cases[\n",
        "#         [\"Country/Region\", \"Province/State\", \"Lat\", \"Long\"]\n",
        "#     ]\n",
        "# )\n",
        "\n",
        "df_p6 = pd.concat(\n",
        "    (\n",
        "        daily_total_comfirmed_cases.iloc[:, [0, 1, 2, 3, -1]],\n",
        "        daily_total_comfirmed_cases.iloc[:, -1] / num_of_days\n",
        "    ),\n",
        "    axis=1\n",
        ")\n",
        "\n",
        "df_p6.columns = (*df_p6.columns[:-2], \"Total Confirmed Cases\", \"Daily_Averages\")\n",
        "\n",
        "df_p6 = df_p6.set_index([\"Country/Region\", \"Province/State\", \"Lat\", \"Long\"])\n",
        "\n",
        "df_p6"
      ]
    }
  ],
  "metadata": {
    "colab": {
      "provenance": []
    },
    "kernelspec": {
      "display_name": "Python 3.10.3 ('base_venv')",
      "language": "python",
      "name": "python3"
    },
    "language_info": {
      "codemirror_mode": {
        "name": "ipython",
        "version": 3
      },
      "file_extension": ".py",
      "mimetype": "text/x-python",
      "name": "python",
      "nbconvert_exporter": "python",
      "pygments_lexer": "ipython3",
      "version": "3.10.3"
    },
    "vscode": {
      "interpreter": {
        "hash": "89bc4e4d57955752104a90edca27078e178f7cbbec3cd6756359e7c00dfd30f4"
      }
    }
  },
  "nbformat": 4,
  "nbformat_minor": 0
}
