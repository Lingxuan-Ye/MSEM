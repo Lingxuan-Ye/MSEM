{
  "cells": [
    {
      "cell_type": "code",
      "execution_count": null,
      "metadata": {
        "id": "VWa9hNpnf2cT"
      },
      "outputs": [],
      "source": [
        "#@title Student Information\n",
        "Name = 'Lingxuan Ye' #@param {type:\"string\"}\n",
        "Login_ID = '' #@param {type:\"string\"}\n",
        "SIS_ID = 'value' #@param {type:\"string\"}"
      ]
    },
    {
      "cell_type": "markdown",
      "metadata": {
        "id": "XNRAAOy_49-c"
      },
      "source": [
        "# The USA COVID-19 Daily State Reports in the IE6600 git repo\n",
        "\n",
        "The USA COVID-19 Daily State Reports in the JHU COVID-19 git repo https://github.com/CSSEGISandData/COVID-19/tree/master/csse_covid_19_data/csse_covid_19_daily_reports_us have been converted into a pandas DataFrame and saved into our course git repo at https://github.com/hr8799/IE6600/blob/main/JHU_COVID-US_Database/JHU_COVID-US.h5. The HDF key value for the converted Pandas DataFrame is `csse_covid_19_data/csse_covid_19_daily_reports_us`. "
      ]
    },
    {
      "cell_type": "markdown",
      "metadata": {},
      "source": [
        "# Imports"
      ]
    },
    {
      "cell_type": "code",
      "execution_count": null,
      "metadata": {},
      "outputs": [],
      "source": [
        "import numpy as np\n",
        "import pandas as pd\n",
        "import matplotlib.pyplot as plt"
      ]
    },
    {
      "cell_type": "markdown",
      "metadata": {},
      "source": [
        "# Data Retrieving\n",
        "\n",
        "## Repo Cloning "
      ]
    },
    {
      "cell_type": "code",
      "execution_count": null,
      "metadata": {},
      "outputs": [],
      "source": [
        "!git clone git@github.com:hr8799/IE6600.git _data/"
      ]
    },
    {
      "cell_type": "markdown",
      "metadata": {},
      "source": [
        "## Read HDF5"
      ]
    },
    {
      "cell_type": "code",
      "execution_count": null,
      "metadata": {},
      "outputs": [],
      "source": [
        "data = pd.read_hdf(\"_data/JHU_COVID-US_Database/JHU_COVID-US.h5\")\n",
        "data"
      ]
    },
    {
      "cell_type": "markdown",
      "metadata": {
        "id": "q1F4dAJ6d1HN"
      },
      "source": [
        "# Problem 1. Case_Fatality_Ratio of Massachusetts and California (2 percentage points)\n",
        "\n",
        "Create a line plot showing the Case_Fatality_Ratios of Massachusetts and California in the same plot. \n",
        "\n",
        "**Requirements**\n",
        "\n",
        "1. The two lines should be plotted together.\n",
        "2. A legend should be created showing which line is for which state.\n",
        "3. The `Last_Update` column in the DataFrame should be mapped to the x-axis and its values should be sorted in the ascending order.\n",
        "4. The `Case_Fatality_Ratio` column in the DataFrame should be mapped to the y-axis.\n",
        "5. x-axis and y-axis labels should be created.\n",
        "6. A plot title should be created.\n",
        "\n",
        "**Hints**\n",
        "\n",
        "1. `pandas.sort_values` could be used to sort a DataFrame according to one or multiple columns"
      ]
    },
    {
      "cell_type": "code",
      "execution_count": null,
      "metadata": {},
      "outputs": [],
      "source": [
        "COLUMNS = [\"Last_Update\", \"Case_Fatality_Ratio\"]\n",
        "\n",
        "groups = data.groupby(\"Province_State\")\n",
        "data_MA = groups.get_group(\"Massachusetts\")[COLUMNS].sort_values(\"Last_Update\")\n",
        "data_CA = groups.get_group(\"California\")[COLUMNS].sort_values(\"Last_Update\")\n",
        "\n",
        "fig, ax = plt.subplots()\n",
        "\n",
        "fig.set_size_inches(16, 8)\n",
        "\n",
        "ax.set_title(\"Case_Fatality_Ratios of Massachusetts and California\")\n",
        "ax.set_xlabel(COLUMNS[0])\n",
        "ax.set_ylabel(COLUMNS[1])\n",
        "\n",
        "line_MA, = ax.plot(data_MA[COLUMNS[0]], data_MA[COLUMNS[1]])\n",
        "line_CA, = ax.plot(data_CA[COLUMNS[0]], data_CA[COLUMNS[1]])\n",
        "\n",
        "ax.legend([line_MA, line_CA], [COLUMNS[0], COLUMNS[1]])\n",
        "\n",
        "plt.show()"
      ]
    },
    {
      "cell_type": "markdown",
      "metadata": {
        "id": "SYYlU5eWfG0z"
      },
      "source": [
        "# Problem 2. Distributions of the average Case_Fatality_Ratios after 04/01/2022 and before 01/01/2021 (2 percentage points)\n",
        "\n",
        "Create a plot consisting of two histogram subplots showing the distributions of the state-wise average Case_Fatality_Ratios after 04/01/2022 and before 01/01/2021\n",
        "\n",
        "**Notes**\n",
        "\n",
        "1. Use the `Last_Update` column to filter out data based on time\n",
        "2. The state-wise average Case_Fatality_Ratios should include those of the US territories and DC: 'American Samoa', 'Diamond Princess', 'District of Columbia', 'Grand Princess', 'Guam', 'Northern Mariana Islands', 'Puerto Rico', 'Recovered', 'Virgin Islands'\n",
        "\n",
        "**Requirements**\n",
        "\n",
        "1. Use 8 bins for the histograms.\n",
        "2. The two histogram subplots should have the same x-axis range\n",
        "3. The two histogram subplots should occupy two rows of the plot\n",
        "4. A plot title should be created for each subplot.\n",
        "5. x-axis and y-axis labels should be created for each subplot.\n",
        "\n",
        "**Hints**\n",
        "1. Use the pandas.to_datetime() to convert a str into a pandas Timestamp so that you can compare it with values in the `Last_Update` column\n",
        "2. The generated plot should look similar to this: https://github.com/hr8799/IE6600/blob/main/JHU_COVID-US_Database/HW3_Problem2.png"
      ]
    },
    {
      "cell_type": "code",
      "execution_count": null,
      "metadata": {},
      "outputs": [],
      "source": [
        "after = data[\n",
        "    data[\"Last_Update\"] > pd.to_datetime(\"04/01/2022\")\n",
        "][\n",
        "    [\"Province_State\", \"Case_Fatality_Ratio\"]\n",
        "].groupby(\"Province_State\").mean()\n",
        "\n",
        "before = data[\n",
        "    data[\"Last_Update\"] < pd.to_datetime(\"01/01/2021\")\n",
        "][\n",
        "    [\"Province_State\", \"Case_Fatality_Ratio\"]\n",
        "].groupby(\"Province_State\").mean()\n",
        "\n",
        "fig, (ax_after, ax_before) = plt.subplots(2)\n",
        "\n",
        "fig.set_size_inches(16, 16)\n",
        "\n",
        "range_ = (\n",
        "    min(after.min()[0], before.min()[0]),\n",
        "    max(after.max()[0], before.max()[0])\n",
        ")\n",
        "\n",
        "ax_after.hist(after, bins=8, range=range_)\n",
        "ax_after.set_title(\n",
        "    \"Destribution of State-wise Case Fatality Ratio after 04/01/2022\"\n",
        ")\n",
        "ax_after.set_xticks(np.linspace(*range_, num=9))\n",
        "ax_after.set_xlabel(\"Case Fatality Ratio (%)\")\n",
        "ax_after.set_ylabel(\"Counts\")\n",
        "\n",
        "ax_before.hist(before, bins=8, range=range_)\n",
        "ax_before.set_title(\n",
        "    \"Destribution of State-wise Case Fatality Ratio before 01/01/2021\"\n",
        ")\n",
        "ax_before.set_xticks(np.linspace(*range_, num=9))\n",
        "ax_before.set_xlabel(\"Case Fatality Ratio (%)\")\n",
        "ax_before.set_ylabel(\"Counts\")\n",
        "\n",
        "plt.show()"
      ]
    },
    {
      "cell_type": "markdown",
      "metadata": {
        "id": "AU1RinWCCSIq"
      },
      "source": [
        "# Problem 3. Distributions of the average Case_Fatality_Ratios after 04/01/2022 according to party affiliations (2 percentage points)\n",
        "\n",
        "Create a single plot showing two histograms of the state-wise average Case_Fatality_Ratios after 04/01/2022, one for states that voted for a Repulican Governor in the 2020 election and one for states that voted for a Demoncratic Governor in the 2020 election. The party affiliations of the states can be retrieved from the `Governor` column under the section `U.S. state party control as of January 2022` in this wiki page: https://en.wikipedia.org/wiki/Political_party_strength_in_U.S._states\n",
        "\n",
        "\n",
        "**Notes**\n",
        "\n",
        "1. The state-wise average Case_Fatality_Ratios should **NOT** include those of the US territories and DC because there were no Governors elected for them in the 2020 presidential election\n",
        "\n",
        "**Requirements**\n",
        "\n",
        "1. Use 8 bins for the histograms.\n",
        "2. The two histograms need to be ploted in the same plot\n",
        "3. The histogram on the front layer should be semi-transprant so that it does not block part of the histogram on the back layer completely\n",
        "4. Party affiliations can only be extracted from the provided [wiki page](https://en.wikipedia.org/wiki/Political_party_strength_in_U.S._states)\n",
        "4. A plot title should be created.\n",
        "5. x-axis and y-axis labels should be created.\n",
        "6. A legend should be created\n",
        "7. The histogram for states voted for a Republic Governor should be plotted using the red color while the histogram for states voted for a Democratic Governor should be plotted using the blue color\n",
        "\n",
        "**Hints**\n",
        "1. Use the pandas.to_datetime() to convert a str into a pandas Timestamp so that you can compare it with values in the `Last_Update` column\n",
        "2. The generated plot should look similar to this: https://github.com/hr8799/IE6600/blob/main/JHU_COVID-US_Database/HW3_Problem3.png"
      ]
    },
    {
      "cell_type": "code",
      "execution_count": null,
      "metadata": {},
      "outputs": [],
      "source": [
        "EXCLUDES = [\n",
        "    'American Samoa', 'Diamond Princess', 'District of Columbia',\n",
        "    'Grand Princess', 'Guam', 'Northern Mariana Islands',\n",
        "    'Puerto Rico', 'Recovered', 'Virgin Islands'\n",
        "]\n",
        "\n",
        "after_ = after[~ after.index.isin(EXCLUDES)]\n",
        "\n",
        "affiliations = pd.read_html(\n",
        "    \"https://en.wikipedia.org/wiki/Political_party_strength_in_U.S._states\"\n",
        ")[5][[\"State\", \"Governor\"]]\n",
        "\n",
        "groups = affiliations.groupby(\"Governor\")\n",
        "\n",
        "# to make sure there are only Democratic and Republican parties,\n",
        "# which may not always be true\n",
        "groups.describe()"
      ]
    },
    {
      "cell_type": "code",
      "execution_count": null,
      "metadata": {},
      "outputs": [],
      "source": [
        "democratic = after_[after_.index.isin(groups.get_group(\"Democratic\")[\"State\"])]\n",
        "republican = after_[after_.index.isin(groups.get_group(\"Republican\")[\"State\"])]\n",
        "\n",
        "fig, ax = plt.subplots()\n",
        "\n",
        "fig.set_size_inches(16, 8)\n",
        "\n",
        "range_ = (after_.min()[0], after_.max()[0])\n",
        "\n",
        "ax.set_title(\n",
        "    \"Destribution of State-wise Case Fatality Ratio after 04/01/2022\"\n",
        "    \"by Party Affiliation of the Governor\"\n",
        ")\n",
        "ax.set_xticks(np.linspace(*range_, num=9))\n",
        "ax.set_xlabel(\"Case Fatality Ratio (%)\")\n",
        "ax.set_ylabel(\"Counts\")\n",
        "\n",
        "ax.hist(democratic, bins=8, range=range_, alpha=1, color=\"b\", label=\"Democratic\")\n",
        "\n",
        "# if by 'semi' it means 50% transparency, set `alpha` to 0.5 (ugly though)\n",
        "ax.hist(republican, bins=8, range=range_, alpha=0.8, color=\"r\", label=\"Republican\")\n",
        "\n",
        "plt.legend()\n",
        "\n",
        "plt.show()"
      ]
    }
  ],
  "metadata": {
    "colab": {
      "provenance": []
    },
    "kernelspec": {
      "display_name": "Python 3.10.3 ('base_venv')",
      "language": "python",
      "name": "python3"
    },
    "language_info": {
      "codemirror_mode": {
        "name": "ipython",
        "version": 3
      },
      "file_extension": ".py",
      "mimetype": "text/x-python",
      "name": "python",
      "nbconvert_exporter": "python",
      "pygments_lexer": "ipython3",
      "version": "3.10.3"
    },
    "vscode": {
      "interpreter": {
        "hash": "89bc4e4d57955752104a90edca27078e178f7cbbec3cd6756359e7c00dfd30f4"
      }
    }
  },
  "nbformat": 4,
  "nbformat_minor": 0
}
