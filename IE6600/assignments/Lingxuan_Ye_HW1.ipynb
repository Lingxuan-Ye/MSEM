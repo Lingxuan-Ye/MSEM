{
  "cells": [
    {
      "cell_type": "code",
      "execution_count": null,
      "metadata": {
        "id": "VWa9hNpnf2cT"
      },
      "outputs": [],
      "source": [
        "#@title Student Information\n",
        "Name = 'Lingxuan Ye' #@param {type:\"string\"}\n",
        "Login_ID = '' #@param {type:\"string\"}\n",
        "SIS_ID = 'value' #@param {type:\"string\"}"
      ]
    },
    {
      "cell_type": "code",
      "execution_count": null,
      "metadata": {},
      "outputs": [],
      "source": [
        "from typing import Any, Dict, Sequence, Tuple, Union"
      ]
    },
    {
      "cell_type": "markdown",
      "metadata": {
        "id": "XNRAAOy_49-c"
      },
      "source": [
        "# Problem 1. Find BMI (2 percentage points)\n",
        "BMI or Body Mass Index is a measure of body fat based on height and weight that applies to adult men and women. In this problem, you are given a person's details such as name, age, height, and weight. Validate the data and apply the BMI function.\n",
        "\n",
        "BMI is calculated as:\n",
        "\n",
        "BMI = Weight/(Height*Height) \n",
        "\n",
        "* Weight is in Kg\n",
        "* Height is in meters\n",
        " \n",
        "\n",
        "Only take the integer part of this value. For example, 27.8 is considered 27.\n",
        "\n",
        "You are given a class `Person` where you need to implement the following three methods.\n",
        "\n",
        "`def __init__(self, name, age, height, weight) -> None:`\n",
        "* Initialize the class variables with the values passed by the constructor.\n",
        "  * name - string\n",
        "  * age - integer\n",
        "  * height - integer, in centimeters\n",
        "  * weight - integer, in kilograms\n",
        "* Throw a ValueError age, height, or weight is out of its valid range. Do not create the object if there is a value error.\n",
        "  * Age should be between 18 and 120, both inclusive. If not, throw a ValueError with the message \"Value of age should be between 18 and 120\".\n",
        "  * Height should be between 100 and 250 centimeters, both inclusive. Otherwise, throw a ValueError with the message \"Value of height should be between 100 and 250\".\n",
        "  * Weight should be above 20. Otherwise, throw a ValueError with the message \"Value of weight should be greater than 20\".\n",
        " \n",
        "\n",
        "`def bmi(self) -> int:`\n",
        "* Return an integer value of the calculated BMI.\n",
        "\n",
        "`def __str__(self) -> str:`\n",
        "* Return a string \"{name} is {age} years old. BMI is {bmi}\", where the name and age are attributes and BMI is calculated as described.\n",
        " \n",
        "**Example:**\n",
        "\n",
        "\\>>> person1 = Person(\"Tim\", 19, 157, 56)\n",
        "\n",
        "\\>>> print(person1)\n",
        "\n",
        "\\>>> Tim is 19 years old. BMI is 22\n",
        "\n",
        "\\>>> person2 = Person(\"Anna\", 16, 173, 56)\n",
        "\n",
        "\\>>> Value of age should be between 18 and 120\n",
        "\n",
        "Note that a message is thrown as an error and the object person2 is not created.\n",
        " \n",
        "**Function Description**\n",
        "\n",
        "Complete the class `Person` with the following methods.\n",
        "\n",
        "&nbsp; `def __init__(self, name, age, height, weight) -> None`\n",
        "\n",
        "&nbsp; `def bmi(self) -> int:`\n",
        "    \n",
        "&nbsp; `def __str__(self) -> str:`\n",
        "\n",
        "**Constraints**\n",
        "\n",
        "There is no more than one invalid value in a test case.\n",
        "The name will be of string type, and age, weight, and height values are integers.\n",
        "\n",
        "**Test Requirements**\n",
        "\n",
        "A few test cases are supplied below. Please run those test cases once you supplied your implementation"
      ]
    },
    {
      "cell_type": "code",
      "execution_count": null,
      "metadata": {
        "id": "K0YOuF26oISp"
      },
      "outputs": [],
      "source": [
        "# Supply your implementation of the class Person below\n",
        "\n",
        "\n",
        "class Person:\n",
        "\n",
        "    def __init__(self, name: str, age: int, height: int, weight: int) -> None:\n",
        "        self.name: str = name\n",
        "        self.age: int = age\n",
        "        self.height: int = height\n",
        "        self.weight: int = weight\n",
        "\n",
        "    def __setattr__(self, __name: str, __value: Any) -> None:\n",
        "        if __name == \"name\" and not isinstance(__value, str):\n",
        "            raise TypeError\n",
        "        elif __name == \"age\":\n",
        "            # raise TypeError for invalid type\n",
        "            # raise ValueError for non-decimal string (e.g., '0xff')\n",
        "            __value = int(__value)\n",
        "            if not 18 <= __value <= 120:\n",
        "                raise ValueError(\"Value of age should be between 18 and 120\")\n",
        "        elif __name == \"height\":\n",
        "            __value = int(__value)\n",
        "            if not 100 <= __value <= 250:\n",
        "                raise ValueError(\"Value of height should be between 100 and 250\")\n",
        "        elif __name == \"weight\":\n",
        "            __value = int(__value)\n",
        "            if not __value > 20:\n",
        "                raise ValueError(\"Value of weight should be greater than 20\")\n",
        "        return super().__setattr__(__name, __value)\n",
        "\n",
        "    def bmi(self) -> int:\n",
        "        return int(10_000 * self.weight / self.height ** 2)\n",
        "\n",
        "    def __str__(self) -> str:\n",
        "        return f\"{self.name} is {self.age} years old. BMI is {self.bmi()}\"\n"
      ]
    },
    {
      "cell_type": "code",
      "execution_count": null,
      "metadata": {
        "id": "so_Nn8QEoU1j"
      },
      "outputs": [],
      "source": [
        "# Test Case - Do not delete\n",
        "print(Person(\"Tim\", 19, 157, 56))"
      ]
    },
    {
      "cell_type": "code",
      "execution_count": null,
      "metadata": {
        "id": "1PpulvM49pWk"
      },
      "outputs": [],
      "source": [
        "# Test Case - Do not delete\n",
        "print(Person(\"Anna\", 16, 173, 67))"
      ]
    },
    {
      "cell_type": "code",
      "execution_count": null,
      "metadata": {
        "id": "L6btv8vT9qXD"
      },
      "outputs": [],
      "source": [
        "# Test Case - Do not delete\n",
        "print(Person(\"Pete\", 125, 163, 60))"
      ]
    },
    {
      "cell_type": "markdown",
      "metadata": {
        "id": "PPA2nRBoRcsE"
      },
      "source": [
        "# Problem 2. Class Attributes (2 percentage points)\n",
        "\n",
        "Create a class `MyAttributeClass` that can be initiated with an arbitrary number of attributes passed as a dictionary. When the len() function is called on a class object, it should return the number of attributes. Complete the methods for the signatures provided.\n",
        "\n",
        "`def __init__(self, **kwargs) -> None:`\n",
        "* Initialize the object with an arbitrary number of arguments as specified in kwargs.\n",
        "\n",
        "`def __len__(self) -> str:`\n",
        "* Return the number of attributes set in the class as an integer.\n",
        "\n",
        "`def __str__(self) -> str:`\n",
        "\n",
        "* Return a string <br />attr1: value1<br />attr2: value2<br /> ...<br />where each line contains an attribute and the corresponding value and all attributes should be included in the string.\n",
        " \n",
        "For example, the class is initialized with the following attributes {'name': 'R2D2', 'age': 66, 'planet': 'Naboo'}. The class gets is initialized with the attributes 'name', 'age', and 'planet' with their corresponding values. When the len() function is called, it returns 3.\n",
        "\n",
        "**Function Description**\n",
        "\n",
        "Complete the class `MyAttributeClass` with the following methods in the editor below.\n",
        "\n",
        "`def __init__(self, **krawgs) -> None:`\n",
        "\n",
        "`def __len__(self) -> int:`\n",
        "\n",
        "`def __str__(self) -> str:`\n",
        "\n",
        "**Hints**\n",
        "* The `__dict__` attribute of a class object can be used to return a dictionary of all its other defined attributes\n",
        "\n",
        "**Test Requirements**\n",
        "\n",
        "A few test cases are supplied below. Please run those test cases once you supplied your implementation"
      ]
    },
    {
      "cell_type": "code",
      "execution_count": null,
      "metadata": {
        "id": "xkIEnMmqp5Ro"
      },
      "outputs": [],
      "source": [
        "# Supply your implementation of the class MyAttributeClass below\n",
        "\n",
        "\n",
        "class MyAttributeClass:\n",
        "\n",
        "    # A dunder member should not be called directly\n",
        "    # `vars(obj)` returns `obj.__dict__`\n",
        "\n",
        "    def __init__(self, **kwargs) -> None:\n",
        "        vars(self).update(kwargs)\n",
        "\n",
        "    def __len__(self) -> int:\n",
        "        return len(vars(self))\n",
        "\n",
        "    def __str__(self) -> str:\n",
        "        return \"\\n\".join(f\"{i}: {j}\" for i, j in vars(self).items())"
      ]
    },
    {
      "cell_type": "code",
      "execution_count": null,
      "metadata": {
        "id": "hmP6USqip5bw"
      },
      "outputs": [],
      "source": [
        "# Test Case - Do not delete\n",
        "print(MyAttributeClass(animal='dog', leg_count=4, type='domestic', color='brown', breed='bulldog', hieght=5))"
      ]
    },
    {
      "cell_type": "markdown",
      "metadata": {
        "id": "6dxbFI5bzEF7"
      },
      "source": [
        "# Problem 3 Closest Numbers (2 percentage points)\n",
        "Given an array of distinct integers, determine the minimum absolute difference between any two elements. Print all element pairs with that difference in ascending order.\n",
        "\n",
        "**Example**\n",
        "\n",
        "numbers = [6,2,4,10]\n",
        "\n",
        "The minimum absolute difference is 2 and the pairs with that difference are (2,4) and (4,6). When printing element pairs (i,j), they should be ordered ascending first by i and then by j.\n",
        "\n",
        "2 4\n",
        "\n",
        "4 6\n",
        " \n",
        "**Function Description**\n",
        "\n",
        "Complete the function `get_closest_numbers` in the code cell.\n",
        "\n",
        " \n",
        "`get_closest_numbers` has the following parameter(s):\n",
        "\n",
        "* arr: a list or tuple of integers\n",
        "\n",
        "**Returns**\n",
        "\n",
        "* NONE\n",
        "\n",
        "**Prints**\n",
        "\n",
        "* Distinct element pairs that share the minimum absolute difference, displayed in ascending order with each pair separated by one space on a single line"
      ]
    },
    {
      "cell_type": "code",
      "execution_count": null,
      "metadata": {
        "id": "J7kg3WyT1Cu1"
      },
      "outputs": [],
      "source": [
        "# Supply your implementation of the function get_closest_numbers below\n",
        "\n",
        "import numpy as np\n",
        "\n",
        "\n",
        "def get_closest_numbers(arr: Union[Sequence, np.ndarray]) -> None:\n",
        "    if isinstance(arr, np.ndarray):\n",
        "        temp = arr.copy()\n",
        "    else:\n",
        "        temp = list(arr)\n",
        "    temp.sort()\n",
        "    diffs = (temp[i+1]-temp[i] for i in range(len(arr)-1))\n",
        "    indices = []\n",
        "    for i, j in enumerate(diffs):\n",
        "        if i == 0:\n",
        "            indices.append(i)\n",
        "            min_diff: int = j\n",
        "            continue\n",
        "        if j < min_diff:\n",
        "            indices.clear()\n",
        "            indices.append(i)\n",
        "            min_diff = j\n",
        "        elif j == min_diff:\n",
        "            indices.append(i)\n",
        "    print(\n",
        "        *(\n",
        "            f\"{temp[i]} {temp[i+1]}\\n\"\n",
        "            f\"{temp[i+1]} {temp[i]}\"\n",
        "            for i in indices\n",
        "        ),\n",
        "        sep=\"\\n\"\n",
        "    )"
      ]
    },
    {
      "cell_type": "code",
      "execution_count": null,
      "metadata": {
        "id": "EdiqH6Lic07W"
      },
      "outputs": [],
      "source": [
        "# Test Case - Do not delete\n",
        "# import numpy as np\n",
        "np.random.seed(seed=0)\n",
        "arr = np.unique(np.random.randint(0, 100000000, 100000))\n",
        "get_closest_numbers(arr)"
      ]
    }
  ],
  "metadata": {
    "colab": {
      "provenance": []
    },
    "kernelspec": {
      "display_name": "Python 3.10.3 ('base_venv')",
      "language": "python",
      "name": "python3"
    },
    "language_info": {
      "codemirror_mode": {
        "name": "ipython",
        "version": 3
      },
      "file_extension": ".py",
      "mimetype": "text/x-python",
      "name": "python",
      "nbconvert_exporter": "python",
      "pygments_lexer": "ipython3",
      "version": "3.10.3"
    },
    "vscode": {
      "interpreter": {
        "hash": "89bc4e4d57955752104a90edca27078e178f7cbbec3cd6756359e7c00dfd30f4"
      }
    }
  },
  "nbformat": 4,
  "nbformat_minor": 0
}
