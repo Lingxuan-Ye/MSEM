{
  "cells": [
    {
      "cell_type": "code",
      "execution_count": null,
      "metadata": {
        "id": "VWa9hNpnf2cT"
      },
      "outputs": [],
      "source": [
        "#@title Student Information\n",
        "Name = 'Lingxuan Ye' #@param {type:\"string\"}\n",
        "Login_ID = '' #@param {type:\"string\"}\n",
        "SIS_ID = 'value' #@param {type:\"string\"}"
      ]
    },
    {
      "cell_type": "code",
      "execution_count": null,
      "metadata": {
        "id": "uBITcqDBOq_b"
      },
      "outputs": [],
      "source": [
        "import json\n",
        "\n",
        "import pandas as pd\n",
        "import plotly.express as px\n",
        "import seaborn as sns\n",
        "from sklearn.decomposition import PCA\n",
        "import yfinance as yf\n",
        "\n",
        "# may be not backward compatible (latest verson of Jupyter/Ipython)\n",
        "from IPython.display import HTML, display  # comment this if `ImportError`\n",
        "# from IPython.core.display import HTML, display  # uncomment if ..."
      ]
    },
    {
      "cell_type": "code",
      "execution_count": null,
      "metadata": {},
      "outputs": [],
      "source": [
        "def debug(x):\n",
        "    display(HTML(x.to_html()))"
      ]
    },
    {
      "cell_type": "markdown",
      "metadata": {
        "id": "BD8sCAKFxBhC"
      },
      "source": [
        "# Problem 1. US Covid Death Counts by States by Time (2 points)\n",
        "\n",
        "The US CDC maintains a [dataset](https://data.cdc.gov/Case-Surveillance/United-States-COVID-19-Cases-and-Deaths-by-State-o/9mfq-cb36/data) tracking the US covid death counts by states by time. We would like to use this dataset to extract the (accumulative) total death counts by month for each state and put it into a pandas DataFrame. \n",
        "\n",
        "**Requirements**\n",
        "\n",
        "1. Use this [link](https://data.cdc.gov/api/views/9mfq-cb36/rows.csv?accessType=DOWNLOAD) to download the dataset into your colab server machine and load it into a pandas DataFrame (i.e., the \"original\" DataFrame thereafter in this HW). **The downloading of data has to be performed programatically in your notebook, in another word, manually downloading it and then uploading it into your colab notebook is not acceptable**\n",
        "2. Use the `tot_death` column for the data extraction\n",
        "3. The result pandas DataFrame should contain the following columns:\n",
        " - `state`: the `state` column of the original DataFrame\n",
        " - `year`: the year of the `submission_date` column in the original DataFrame\n",
        " - `month`: the month of the `submission_date` column in the original DataFrame\n",
        " - `tot_death`: the `tot_death` in the original DataFrame\n",
        "4. For each state for each month, there should be only one row in the result pandas DataFrame that contains the total death counts for that state in that month.  "
      ]
    },
    {
      "cell_type": "code",
      "execution_count": null,
      "metadata": {},
      "outputs": [],
      "source": [
        "!curl \"https://data.cdc.gov/api/views/9mfq-cb36/rows.csv?accessType=DOWNLOAD\" > _covid.csv\n",
        "# !curl \"https://raw.githubusercontent.com/PublicaMundi/MappingAPI/master/data/geojson/us-states.json\" > _geo.json\n",
        "# !curl \"https://raw.githubusercontent.com/plotly/datasets/master/geojson-counties-fips.json\" > _geo.json\n",
        "# !curl \"https://gist.githubusercontent.com/wavded/1250983/raw/bf7c1c08f7b1596ca10822baeb8049d7350b0a4b/stateCodeToFips.json\" > _fips.json"
      ]
    },
    {
      "cell_type": "code",
      "execution_count": null,
      "metadata": {},
      "outputs": [],
      "source": [
        "raw = pd.read_csv('_covid.csv')\n",
        "HTML(\n",
        "    f\"\"\"\n",
        "    <details>\n",
        "        <summary>\n",
        "        Expand for more info ...\n",
        "        </summary>\n",
        "        {raw._repr_html_()}\n",
        "    </details>\n",
        "    \"\"\"\n",
        ")"
      ]
    },
    {
      "cell_type": "code",
      "execution_count": null,
      "metadata": {},
      "outputs": [],
      "source": [
        "data = raw[['submission_date', 'state', 'tot_death']]\n",
        "month_year = data['submission_date'].str.extract(r'^(.+?)(?=\\/).+?([^\\/]+)$')\n",
        "data.insert(0, 'year', month_year[1])\n",
        "data.insert(1, 'month', month_year[0])\n",
        "\n",
        "# `inplace=True` has some irritating warning,\n",
        "# while statement below is memory-consuming\n",
        "data_nested = data.drop(\n",
        "    'submission_date', axis=1\n",
        ").sort_values(['year', 'month']).groupby(['state', 'year', 'month']).last()\n",
        "\n",
        "data_flatened = data_nested.reset_index()\n",
        "\n",
        "display(\n",
        "    HTML('<h2>Nested Data</h2>'),\n",
        "    # HTML(data_nested.to_html()),  # uncomment it for details\n",
        "    data_nested,\n",
        "    HTML('<h2>Flatened Data</h2>'),\n",
        "    # HTML(data_nested.to_html()),  # ditto\n",
        "    data_flatened\n",
        ")"
      ]
    },
    {
      "cell_type": "markdown",
      "metadata": {
        "id": "PXvYnzvkuJsg"
      },
      "source": [
        "# Problem 2. Animation of the Death Counts by States by Time (2 points)\n",
        "\n",
        "Starting with the result pandas DataFrame derived from the Problem 1, generate a choropleth plot that shows the total death counts by state over time.  \n",
        "\n",
        "**Requirements**\n",
        "\n",
        "1. The plot has to be generated using the [`plotly.express.choropleth`](https://plotly.github.io/plotly.py-docs/generated/plotly.express.choropleth.html) function.\n",
        "2. The plot should features an animation UI by using the `animation_frame` argument of the plotting function. When the user plays the animation, the animation needs to start from the earliest time and display the death counts for each state month by month in the increasing order of time. \n",
        "3. The color range has to be fixed so that the plot won't dynamically change the color range during the animation."
      ]
    },
    {
      "attachments": {},
      "cell_type": "markdown",
      "metadata": {},
      "source": [
        "## Notice\n",
        "\n",
        "Some values of column 'state' are **INVALID**. For example:\n",
        "\n",
        "- MP: I presume it stands for Military Police Corps, while it literally cannot have a fips code, let alone that it has been registered in geojson.\n",
        "- NYC: Maybe New York City counts its case individually from New York State, while it is not state-level administrative division I think. So I add the stats of NYC to NY.\n",
        "- FSM: If FSM does not refer to Flying Spaghetti Monster, then it is most likely to be Federated States of Micronesia, which even not a US territory!\n",
        "\n",
        "Maybe there are more invalid value that I did not know, I will drop them anyway."
      ]
    },
    {
      "cell_type": "code",
      "execution_count": null,
      "metadata": {},
      "outputs": [],
      "source": [
        "data = data_flatened.replace('NYC', 'NY').groupby(\n",
        "    ['state', 'year', 'month']\n",
        ").sum().reset_index()"
      ]
    },
    {
      "cell_type": "code",
      "execution_count": null,
      "metadata": {},
      "outputs": [],
      "source": [
        "px.choropleth(\n",
        "    data,\n",
        "    locations='state',\n",
        "    locationmode=\"USA-states\",\n",
        "    color='tot_death',\n",
        "    scope=\"usa\",\n",
        "    animation_frame=(data['year'] + '/' + data['month']),\n",
        "    range_color=(data['tot_death'].min(), data['tot_death'].max())\n",
        ")"
      ]
    },
    {
      "cell_type": "markdown",
      "metadata": {
        "id": "JYscvqnc5PWU"
      },
      "source": [
        "# Problem 3. PCA of Major US Indices (2 points)\n",
        "\n",
        "1. Generate a seaborn pairplot of the PCA scores of the daily close prices from 2017-01-01 to 2022-11-25 of the four major US financial market indicies: `SP500`, `DOW`, `NASDAQ`, and `RUSSELL2000` (1 point).\n",
        "\n",
        "2. To retain 99% of the data variability, how many PC comoponents do you need to retain (1 point)?\n",
        "\n",
        "**Requirements**\n",
        "\n",
        "1. Use the Yahoo finance API to prepare the data\n",
        "\n",
        "**Notes**\n",
        "\n",
        "1. The symbols for the indices in the Yahoo finance API: `SP500` - `^GSPC`, `DOW` - `^DJI`, `NASDAQ` - `^IXIC`, `RUSSELL2000` - `^RUT`"
      ]
    },
    {
      "cell_type": "markdown",
      "metadata": {},
      "source": [
        "## 1"
      ]
    },
    {
      "cell_type": "code",
      "execution_count": null,
      "metadata": {},
      "outputs": [],
      "source": [
        "COLUMNS = ['^GSPC', '^DJI', '^IXIC', '^RUT']\n",
        "data = yf.download(\n",
        "  COLUMNS,\n",
        "  start='2017-01-01',\n",
        "  end='2022-11-26',\n",
        "  progress=False\n",
        ")['Close']"
      ]
    },
    {
      "cell_type": "code",
      "execution_count": null,
      "metadata": {},
      "outputs": [],
      "source": [
        "\n",
        "pca = PCA()\n",
        "scores = pd.DataFrame(\n",
        "    pca.fit_transform(data),\n",
        "    columns=(f'PC {i + 1}' for i in range(len(COLUMNS)))\n",
        ")\n",
        "\n",
        "sns.pairplot(scores)"
      ]
    },
    {
      "cell_type": "markdown",
      "metadata": {},
      "source": [
        "## 2"
      ]
    },
    {
      "cell_type": "code",
      "execution_count": null,
      "metadata": {},
      "outputs": [],
      "source": [
        "cumsum = pca.explained_variance_ratio_.cumsum()"
      ]
    },
    {
      "cell_type": "code",
      "execution_count": null,
      "metadata": {},
      "outputs": [],
      "source": [
        "for i, j in enumerate(cumsum):\n",
        "    if j >= 0.99:\n",
        "        print(f'number of pca components to retain: {i + 1}')\n",
        "        break"
      ]
    }
  ],
  "metadata": {
    "colab": {
      "provenance": []
    },
    "kernelspec": {
      "display_name": "ink",
      "language": "python",
      "name": "python3"
    },
    "language_info": {
      "codemirror_mode": {
        "name": "ipython",
        "version": 3
      },
      "file_extension": ".py",
      "mimetype": "text/x-python",
      "name": "python",
      "nbconvert_exporter": "python",
      "pygments_lexer": "ipython3",
      "version": "3.11.1"
    },
    "vscode": {
      "interpreter": {
        "hash": "63c39743f639f3c46951a03907d4fb53ddc9f1051a7ffa803df088dddd89abd3"
      }
    }
  },
  "nbformat": 4,
  "nbformat_minor": 0
}
