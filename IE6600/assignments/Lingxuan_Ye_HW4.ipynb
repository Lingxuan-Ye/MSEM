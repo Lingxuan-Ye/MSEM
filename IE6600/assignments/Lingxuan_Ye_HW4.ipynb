{
  "cells": [
    {
      "cell_type": "code",
      "execution_count": null,
      "metadata": {
        "id": "VWa9hNpnf2cT"
      },
      "outputs": [],
      "source": [
        "#@title Student Information\n",
        "Name = 'Lingxuan Ye' #@param {type:\"string\"}\n",
        "Login_ID = '' #@param {type:\"string\"}\n",
        "SIS_ID = 'value' #@param {type:\"string\"}"
      ]
    },
    {
      "cell_type": "markdown",
      "metadata": {
        "id": "XNRAAOy_49-c"
      },
      "source": [
        "# The Dow Jones Industrial Average (DJIA)\n",
        "\n",
        "According to [Wiki](https://en.wikipedia.org/wiki/Dow_Jones_Industrial_Average): \"The Dow Jones Industrial Average, Dow Jones, or simply the Dow, is a stock market index of 30 prominent companies listed on stock exchanges in the United States. The DJIA is one of the oldest and most commonly followed equity indices.\"\n",
        "\n",
        "The 30 component companies of DJIA can be found online at https://www.slickcharts.com/dowjones. The online table contains the company names, their symbols (i.e., tickers), and the [weights](https://www.investopedia.com/terms/p/priceweightedindex.asp) used in the DJIA calculations. \n",
        "\n",
        "We could use the Yahoo finance API to download history data of companies using their tickers. The DJIA index can be downloaded using the ticker \"^DJI\" as well. For example:\n",
        "\n",
        "\n"
      ]
    },
    {
      "cell_type": "code",
      "execution_count": null,
      "metadata": {
        "colab": {
          "base_uri": "https://localhost:8080/"
        },
        "id": "xIKFpOsO9KdH",
        "outputId": "f5247fab-a3e6-4ec1-8498-70310e749a4a"
      },
      "outputs": [],
      "source": [
        "# Install Yahoo Finance APIs\n",
        "%pip install yfinance"
      ]
    },
    {
      "cell_type": "code",
      "execution_count": null,
      "metadata": {
        "colab": {
          "base_uri": "https://localhost:8080/",
          "height": 663
        },
        "id": "yNjrFS479WOG",
        "outputId": "49b1cefa-9281-4748-d8f0-8ca4da10599c"
      },
      "outputs": [],
      "source": [
        "import yfinance as yf\n",
        "import pandas as pd\n",
        "\n",
        "# Download historic data for the DJIA index, Apple, and Amazon stocks\n",
        "yf.download(\n",
        "  [\"^DJI\", \"AAPL\", \"AMZN\"],\n",
        "  start='2022-01-15',\n",
        "  end='2022-02-01',\n",
        "  progress=False\n",
        ")"
      ]
    },
    {
      "cell_type": "markdown",
      "metadata": {
        "id": "q1F4dAJ6d1HN"
      },
      "source": [
        "# Problem 1. Year-to-Date (YTD) Historic Data of the DJIA Companies (1 percentage points)\n",
        "\n",
        "Download the YTD (i.e., **01/01/2022 - 11/04/2022**) history data of all the DJIA companies. Save this data into a pandas DataFrame for use in other problems.\n",
        "\n",
        "**Requirements**\n",
        "\n",
        "1. The DJIA company tickers should **ONLY** be extracted from the website https://www.slickcharts.com/dowjones\n",
        "2. YTD means **01/01/2022 - 11/04/2022**.\n",
        "\n"
      ]
    },
    {
      "cell_type": "code",
      "execution_count": null,
      "metadata": {},
      "outputs": [],
      "source": [
        "# web crawler forbidden\n",
        "try:\n",
        "    pd.read_html('https://www.slickcharts.com/dowjones')\n",
        "except Exception as e:\n",
        "    print(e)"
      ]
    },
    {
      "cell_type": "code",
      "execution_count": null,
      "metadata": {},
      "outputs": [],
      "source": [
        "# file 'dowjones.html' is downloaded with Chrome Developer Tools manually.\n",
        "tickers = list(  # 'Series' object has no attribute 'split'\n",
        "    pd.read_html('./dowjones.html')[0]['Symbol']\n",
        ")\n",
        "tickers"
      ]
    },
    {
      "cell_type": "code",
      "execution_count": null,
      "metadata": {},
      "outputs": [],
      "source": [
        "data = yf.download(\n",
        "  tickers,\n",
        "  start='2022-01-01',\n",
        "  end='2022-11-05',  # endpoint excluded\n",
        "  progress=False\n",
        ")\n",
        "data"
      ]
    },
    {
      "cell_type": "markdown",
      "metadata": {
        "id": "r1sQ8_WYRlaf"
      },
      "source": [
        "# Problem 2. Positively Trending and Natively Trending Stocks (2 percentage points)\n",
        "\n",
        "Use the YTD data of the DJIA companies extracted from Problem 1, identify the following stocks:\n",
        "\n",
        "1. Positively trending stocks at a confidence level of 95%\n",
        "2. Negatively trending stocks at a confidence level of 95%\n",
        "3. Non-tredning stocks at a confidence level of 95%\n",
        "\n",
        "**Requirements**\n",
        "\n",
        "1. Use the `Close` price for the trending test\n",
        "\n",
        "**Hints**\n",
        "\n",
        "1. Use the Mann-Kendall trending test"
      ]
    },
    {
      "cell_type": "code",
      "execution_count": null,
      "metadata": {},
      "outputs": [],
      "source": [
        "%pip install pymannkendall"
      ]
    },
    {
      "cell_type": "code",
      "execution_count": null,
      "metadata": {},
      "outputs": [],
      "source": [
        "from pymannkendall import original_test"
      ]
    },
    {
      "cell_type": "code",
      "execution_count": null,
      "metadata": {},
      "outputs": [],
      "source": [
        "trend = pd.DataFrame(index=tickers, columns=['Trend'])\n",
        "\n",
        "for i, j in data['Close'].iteritems():\n",
        "    trend.loc[i, 'Trend'] = original_test(j).trend"
      ]
    },
    {
      "cell_type": "code",
      "execution_count": null,
      "metadata": {},
      "outputs": [],
      "source": [
        "# Positively trending stocks at a confidence level of 95%\n",
        "trend[trend['Trend'] == 'increasing']"
      ]
    },
    {
      "cell_type": "code",
      "execution_count": null,
      "metadata": {},
      "outputs": [],
      "source": [
        "# Negatively trending stocks at a confidence level of 95%\n",
        "trend[trend['Trend'] == 'decreasing']"
      ]
    },
    {
      "cell_type": "code",
      "execution_count": null,
      "metadata": {},
      "outputs": [],
      "source": [
        "# Non-trending stocks at a confidence level of 95%\n",
        "trend[trend['Trend'] == 'no trend']"
      ]
    },
    {
      "cell_type": "markdown",
      "metadata": {
        "id": "0tMF4NiiDBuk"
      },
      "source": [
        "# Problem 3. Pairplot of the Daily Returns of the 5 Most Traded DJIA Companies (2 percentage points)\n",
        "\n",
        "Generate a seaborn pairplot showing the daily returns of the stocks of the 5 most traded DJIA companies. \n",
        "\n",
        "**Requirements**\n",
        "\n",
        "1. The 5 most traded companies should be identified by looking at the daily average `Volume` of the data generated in problem 1.\n",
        "\n",
        "2. Daily return of a stock in a specific day is defined as `close_today / close_previous_day - 1`, where `close_today` is the `Close` price of the stock in that specific day and `close_previous_day` is the `Close` price of the stock in the previous trading day. Note that the previous trading day may not be just yesterday since yesterday could be a holiday or weekend.\n"
      ]
    },
    {
      "cell_type": "code",
      "execution_count": null,
      "metadata": {},
      "outputs": [],
      "source": [
        "import seaborn as sns"
      ]
    },
    {
      "cell_type": "code",
      "execution_count": null,
      "metadata": {},
      "outputs": [],
      "source": [
        "volume_mean: pd.Series = data['Volume'].mean()\n",
        "top_5 = volume_mean.sort_values(ascending=False)[:5].index\n",
        "top_5"
      ]
    },
    {
      "cell_type": "code",
      "execution_count": null,
      "metadata": {},
      "outputs": [],
      "source": [
        "top_5_close = data['Close'][top_5]\n",
        "top_5_close"
      ]
    },
    {
      "cell_type": "code",
      "execution_count": null,
      "metadata": {},
      "outputs": [],
      "source": [
        "daily_return = pd.DataFrame(index=top_5_close.index, columns=top_5)\n",
        "# next(top_5_close.iterrows())\n",
        "for i, (_, j) in enumerate(top_5_close.iterrows()):\n",
        "    if i == 0:\n",
        "        prev = j\n",
        "        continue\n",
        "    daily_return.iloc[i] = j / prev - 1\n",
        "daily_return = daily_return.dropna().astype('float')\n",
        "daily_return"
      ]
    },
    {
      "cell_type": "code",
      "execution_count": null,
      "metadata": {},
      "outputs": [],
      "source": [
        "sns.pairplot(daily_return)"
      ]
    },
    {
      "cell_type": "markdown",
      "metadata": {
        "id": "SYYlU5eWfG0z"
      },
      "source": [
        "# Problem 4. The Strongest Correlated Company Pair of the 5 Most Traded Compainies (1 percentage points)\n",
        "\n",
        "Among the 5 most traded DJIA companies, what are the two compaines whose daily returns are the strongest linearly correlated? What is the p-value of the correlation?\n",
        "\n",
        "**Requirements**\n",
        "\n",
        "1. The 5 most traded companies should be identified by looking at the daily average `Volume` of data generated in problem 1.\n",
        "\n",
        "2. Daily return of a stock in a specific day is defined as `close_today / close_previous_day - 1`, where `close_today` is the `Close` price of the stock in that specific day and `close_previous_day` is the `Close` price of the stock in the previous trading day. Note that the previous trading day may not be just yesterday since yesterday could be a holiday or weekend."
      ]
    },
    {
      "cell_type": "code",
      "execution_count": null,
      "metadata": {},
      "outputs": [],
      "source": [
        "from scipy.stats import linregress\n",
        "\n",
        "locs = ((row, col) for i, row in enumerate(top_5) for col in top_5[i:])\n",
        "\n",
        "results = {\n",
        "    (row, col): linregress(daily_return[row], daily_return[col])\n",
        "    for row, col in locs\n",
        "    if row != col\n",
        "}\n",
        "\n",
        "most_correlated = None\n",
        "for k, v in results.items():\n",
        "    if most_correlated is None:\n",
        "        most_correlated = k\n",
        "        continue\n",
        "    if results[most_correlated].rvalue < v.rvalue:\n",
        "        most_correlated = k\n",
        "most_correlated"
      ]
    },
    {
      "cell_type": "markdown",
      "metadata": {},
      "source": [
        "Daily returns of 'INTC' and 'VZ' are the strongest linearly correlated, of which the p-value is:"
      ]
    },
    {
      "cell_type": "code",
      "execution_count": null,
      "metadata": {},
      "outputs": [],
      "source": [
        "results[most_correlated].pvalue"
      ]
    }
  ],
  "metadata": {
    "colab": {
      "provenance": []
    },
    "kernelspec": {
      "display_name": "Python 3.10.3 ('base_venv')",
      "language": "python",
      "name": "python3"
    },
    "language_info": {
      "codemirror_mode": {
        "name": "ipython",
        "version": 3
      },
      "file_extension": ".py",
      "mimetype": "text/x-python",
      "name": "python",
      "nbconvert_exporter": "python",
      "pygments_lexer": "ipython3",
      "version": "3.10.3"
    },
    "vscode": {
      "interpreter": {
        "hash": "89bc4e4d57955752104a90edca27078e178f7cbbec3cd6756359e7c00dfd30f4"
      }
    }
  },
  "nbformat": 4,
  "nbformat_minor": 0
}
