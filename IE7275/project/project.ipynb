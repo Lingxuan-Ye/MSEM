{
 "cells": [
  {
   "cell_type": "markdown",
   "metadata": {},
   "source": [
    "# IE7275 Project"
   ]
  },
  {
   "attachments": {},
   "cell_type": "markdown",
   "metadata": {},
   "source": [
    "## Team Members\n",
    "\n",
    "- Anqi Guo\n",
    "- Junxiang Yang\n",
    "- Lingxuan Ye"
   ]
  },
  {
   "attachments": {},
   "cell_type": "markdown",
   "metadata": {},
   "source": [
    "## Environment\n",
    "\n",
    "All codes are compatible and robust (hope so) in Google Colab environment, while I believe it is of necessity to specify the local environment we test in."
   ]
  },
  {
   "cell_type": "markdown",
   "metadata": {},
   "source": [
    "### CPython Version"
   ]
  },
  {
   "cell_type": "code",
   "execution_count": null,
   "metadata": {},
   "outputs": [],
   "source": [
    "from sys import version, version_info\n",
    "with open('environment.md', 'w') as f:\n",
    "    f.write(\n",
    "        '# Environment\\n\\n'\n",
    "        '## CPython Version\\n\\n'\n",
    "        f'{version}\\n\\n'\n",
    "        '## Venv Requirements\\n\\n'\n",
    "        '```\\n'\n",
    "    )\n",
    "version_info"
   ]
  },
  {
   "attachments": {},
   "cell_type": "markdown",
   "metadata": {},
   "source": [
    "### Venv Settings"
   ]
  },
  {
   "cell_type": "code",
   "execution_count": null,
   "metadata": {},
   "outputs": [],
   "source": [
    "!pip freeze && pip freeze >> environment.md\n",
    "with open('environment.md', 'a') as f:\n",
    "    f.write('```\\n')"
   ]
  },
  {
   "cell_type": "markdown",
   "metadata": {},
   "source": [
    "## Imports"
   ]
  },
  {
   "cell_type": "code",
   "execution_count": null,
   "metadata": {},
   "outputs": [],
   "source": [
    "from source import PARAMS, cast, grid_search\n",
    "from IPython.display import HTML, display"
   ]
  },
  {
   "attachments": {},
   "cell_type": "markdown",
   "metadata": {},
   "source": [
    "## Hyperparameter Optimization\n",
    "\n",
    "Invoke `BestResult` instance's dunder method `__repr__` and print the returned string.\n",
    "\n",
    "Note that there is no NaN value in our dataset, and that all variables are numerical. In this case, the parameter `dropna`, `numerify` and `numerify_by` have no contribution to the result and should be omitted."
   ]
  },
  {
   "cell_type": "code",
   "execution_count": null,
   "metadata": {},
   "outputs": [],
   "source": [
    "print(\n",
    "    grid_search(\n",
    "        dataset='./data/heart.csv',\n",
    "        y_label='output',\n",
    "        positive='0',\n",
    "        top_n=50\n",
    "    )\n",
    ")"
   ]
  },
  {
   "attachments": {},
   "cell_type": "markdown",
   "metadata": {},
   "source": [
    "According to the result, we conclude that whether we normalize data or not, the way how we normalize data, and whether we do PCA-Decomposition, should not be considered to have significant influence to the data fitting. The only parameter that matters to the prediction accuracy is the estimator type.\n",
    "\n",
    "HTML output below shows us one of the best parameter sets. Note that IPython kernel will automatically render HTML outputs by invoking instance's `_repr_html_` method."
   ]
  },
  {
   "cell_type": "code",
   "execution_count": null,
   "metadata": {},
   "outputs": [],
   "source": [
    "grid_search(\n",
    "    dataset='./data/heart.csv',\n",
    "    y_label='output',\n",
    "    positive='0',\n",
    "    top_n=40\n",
    ")"
   ]
  },
  {
   "attachments": {},
   "cell_type": "markdown",
   "metadata": {},
   "source": [
    "## Classification Results\n",
    "\n",
    "In for-loop defined below, we pass instances of all estimator classes in `PARAMS['estimator']` as argument `estimator` in order to compare they prediction accuracy and other statistics."
   ]
  },
  {
   "cell_type": "code",
   "execution_count": null,
   "metadata": {},
   "outputs": [],
   "source": [
    "for i in PARAMS['estimator']:\n",
    "    display(HTML(f'<h2>{i.__name__}</h2>'))\n",
    "    magic = cast(\n",
    "        dataset='./data/heart.csv',\n",
    "        y_label='output',\n",
    "        positive='0',\n",
    "        estimator=i()\n",
    "    )\n",
    "    magic.evaluate()\n",
    "    magic.kfold_cv()\n",
    "    display(HTML('<hr/>'))"
   ]
  }
 ],
 "metadata": {
  "kernelspec": {
   "display_name": "ink",
   "language": "python",
   "name": "python3"
  },
  "language_info": {
   "codemirror_mode": {
    "name": "ipython",
    "version": 3
   },
   "file_extension": ".py",
   "mimetype": "text/x-python",
   "name": "python",
   "nbconvert_exporter": "python",
   "pygments_lexer": "ipython3",
   "version": "3.11.1 (tags/v3.11.1:a7a450f, Dec  6 2022, 19:58:39) [MSC v.1934 64 bit (AMD64)]"
  },
  "orig_nbformat": 4,
  "vscode": {
   "interpreter": {
    "hash": "63c39743f639f3c46951a03907d4fb53ddc9f1051a7ffa803df088dddd89abd3"
   }
  }
 },
 "nbformat": 4,
 "nbformat_minor": 2
}
