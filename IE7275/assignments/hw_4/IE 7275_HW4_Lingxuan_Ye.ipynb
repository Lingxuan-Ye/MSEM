{
 "cells": [
  {
   "attachments": {},
   "cell_type": "markdown",
   "metadata": {},
   "source": [
    "# IE 7275_HW3_Lingxuan_Ye"
   ]
  },
  {
   "cell_type": "markdown",
   "metadata": {},
   "source": [
    "## Imports"
   ]
  },
  {
   "cell_type": "code",
   "execution_count": null,
   "metadata": {},
   "outputs": [],
   "source": [
    "import gurobipy as gp\n",
    "import matplotlib.pyplot as plt\n",
    "import numpy as np\n",
    "import pandas as pd\n",
    "import scipy.cluster.hierarchy as shc\n",
    "from gurobipy import GRB\n",
    "from mlxtend.frequent_patterns import apriori, association_rules\n",
    "from sklearn.cluster import AgglomerativeClustering\n",
    "from sklearn.metrics.pairwise import cosine_similarity\n",
    "from sklearn.preprocessing import normalize"
   ]
  },
  {
   "cell_type": "markdown",
   "metadata": {},
   "source": [
    "## Problem 3"
   ]
  },
  {
   "cell_type": "markdown",
   "metadata": {},
   "source": [
    "Read data."
   ]
  },
  {
   "cell_type": "code",
   "execution_count": null,
   "metadata": {},
   "outputs": [],
   "source": [
    "data = pd.read_csv('Cereals-3.csv').dropna()\n",
    "# data.set_index('name', inplace=True)\n",
    "name = data['name'].reset_index(drop=True)\n",
    "data.drop('name', axis=1, inplace=True)\n",
    "cat = data.select_dtypes(exclude='number')\n",
    "data = data.assign(**{\n",
    "    label: pd.Categorical(col).codes\n",
    "    for label, col in cat.items()\n",
    "})\n",
    "data"
   ]
  },
  {
   "cell_type": "code",
   "execution_count": null,
   "metadata": {},
   "outputs": [],
   "source": [
    "normalized = pd.DataFrame(normalize(data), columns=data.columns)"
   ]
  },
  {
   "cell_type": "markdown",
   "metadata": {},
   "source": [
    "### 1"
   ]
  },
  {
   "cell_type": "code",
   "execution_count": null,
   "metadata": {},
   "outputs": [],
   "source": [
    "plt.figure(figsize=(10, 7))\n",
    "plt.title(\"Dendrograms\")\n",
    "dend_single = shc.dendrogram(shc.linkage(normalized, method='single'))\n",
    "plt.axhline(color='r', linestyle='--')\n",
    "ticks, labels = plt.xticks()\n",
    "plt.xticks(ticks, name.loc[[int(i.get_text()) for i in labels]])\n",
    "plt.show()"
   ]
  },
  {
   "cell_type": "code",
   "execution_count": null,
   "metadata": {},
   "outputs": [],
   "source": [
    "single = AgglomerativeClustering(n_clusters=3, affinity='euclidean', linkage='single')\n",
    "normalized['cluster'] = single.fit_predict(normalized)\n",
    "sin_df = normalized.groupby('cluster').mean()"
   ]
  },
  {
   "cell_type": "code",
   "execution_count": null,
   "metadata": {},
   "outputs": [],
   "source": [
    "plt.figure(figsize=(10, 7))\n",
    "plt.title(\"Dendrograms\")\n",
    "dend_complete = shc.dendrogram(\n",
    "    shc.linkage(normalized.drop('cluster', axis=1), method='complete')\n",
    ")\n",
    "plt.axhline(color='r', linestyle='--')\n",
    "ticks, labels = plt.xticks()\n",
    "plt.xticks(ticks, name.loc[[int(i.get_text()) for i in labels]])\n",
    "plt.show()"
   ]
  },
  {
   "cell_type": "code",
   "execution_count": null,
   "metadata": {},
   "outputs": [],
   "source": [
    "complete = AgglomerativeClustering(n_clusters=3, affinity='euclidean', linkage='complete')\n",
    "normalized['cluster'] = complete.fit_predict(normalized)\n",
    "com_df = normalized.groupby('cluster').mean()"
   ]
  },
  {
   "cell_type": "code",
   "execution_count": null,
   "metadata": {},
   "outputs": [],
   "source": [
    "sin_df - com_df"
   ]
  },
  {
   "attachments": {},
   "cell_type": "markdown",
   "metadata": {},
   "source": [
    "The most observations are clustered together from single linage so it performs worse than complete linkage.\n",
    "\n",
    "The centroids in\n",
    "\n",
    "- sodium\n",
    "- potass\n",
    "- rating\n",
    "\n",
    "significantly varies."
   ]
  },
  {
   "cell_type": "markdown",
   "metadata": {},
   "source": [
    "### 2"
   ]
  },
  {
   "attachments": {},
   "cell_type": "markdown",
   "metadata": {},
   "source": [
    "Complete linkage for its more balanced in each clusters."
   ]
  },
  {
   "cell_type": "markdown",
   "metadata": {},
   "source": [
    "### 3"
   ]
  },
  {
   "attachments": {},
   "cell_type": "markdown",
   "metadata": {},
   "source": [
    "Choose complete linkage.\n",
    "\n",
    "- 3 clusters\n",
    "- cut-off = 0.9"
   ]
  },
  {
   "cell_type": "markdown",
   "metadata": {},
   "source": [
    "### 4"
   ]
  },
  {
   "attachments": {},
   "cell_type": "markdown",
   "metadata": {},
   "source": [
    "The amount of fat and sugar should be low and because of their quantitatively small range of values, the data should be **normalized** to decrease other variables' contibutions when clustering. "
   ]
  },
  {
   "cell_type": "code",
   "execution_count": null,
   "metadata": {},
   "outputs": [],
   "source": [
    "com_df"
   ]
  },
  {
   "cell_type": "markdown",
   "metadata": {},
   "source": [
    "Cluster 2 in complete linkage should be used."
   ]
  },
  {
   "cell_type": "markdown",
   "metadata": {},
   "source": [
    "## Problem 5"
   ]
  },
  {
   "cell_type": "code",
   "execution_count": null,
   "metadata": {
    "vscode": {
     "languageId": "shellscript"
    }
   },
   "outputs": [],
   "source": [
    "pip install mlxtend gurobipy -q"
   ]
  },
  {
   "cell_type": "markdown",
   "metadata": {},
   "source": [
    "### a"
   ]
  },
  {
   "attachments": {},
   "cell_type": "markdown",
   "metadata": {},
   "source": [
    "lhs: rule body\n",
    "\n",
    "rhs: rule head\n",
    "\n",
    "- confidence: percentage of the rule head occurence amongst all groups.\n",
    "\n",
    "    $$\n",
    "    \\begin{align*}\n",
    "    {confidence}&=\\frac{support}{number\\ of\\ cases}\n",
    "    \\end{align*}\n",
    "    $$\n",
    "\n",
    "- support: percentage of groups containing all items listed in association rule.\n",
    "\n",
    "    $$\n",
    "    \\begin{align*}\n",
    "    {support}&=\\frac{\\sum{occurence\\{Blush,\\ Concealer,\\ Mascara,\\ Eye.shadow,\\ lipstick,\\ Eyebrow.Pencils\\}}}{support\\{Eyebro.Pencils\\}}\n",
    "    \\end{align*}\n",
    "    $$\n",
    "\n",
    "- lift: ratio of confidence and expected confidence.\n",
    "\n",
    "    $$\n",
    "    \\begin{align*}\n",
    "    {lift}&=\\frac{confidence}{\\cfrac{support\\{Blush,\\ Concealer,\\ Mascara,\\ Eye.shadow,\\ lipstick\\}\\times support\\{Eyebro.Pencils\\}}{support\\{Blush,\\ Concealer,\\ Mascara,\\ Eye.shadow,\\ lipstick\\}}}\n",
    "    \\end{align*}\n",
    "    $$\n"
   ]
  },
  {
   "cell_type": "markdown",
   "metadata": {},
   "source": [
    "### b"
   ]
  },
  {
   "cell_type": "code",
   "execution_count": null,
   "metadata": {},
   "outputs": [],
   "source": [
    "data = pd.read_csv('Cosmetics.csv').set_index('Trans. ')\n",
    "data = data.iloc[:, [-1, *range(data.shape[1]-1)]]\n",
    "data"
   ]
  },
  {
   "cell_type": "code",
   "execution_count": null,
   "metadata": {},
   "outputs": [],
   "source": [
    "freq = apriori(data, min_support=0.1, use_colnames=True)\n",
    "freq"
   ]
  },
  {
   "attachments": {},
   "cell_type": "markdown",
   "metadata": {},
   "source": [
    "#### 1"
   ]
  },
  {
   "attachments": {},
   "cell_type": "markdown",
   "metadata": {},
   "source": [
    "Top 20 by lift:"
   ]
  },
  {
   "cell_type": "code",
   "execution_count": null,
   "metadata": {},
   "outputs": [],
   "source": [
    "inst = association_rules(freq, min_threshold=0.7)\n",
    "inst.nlargest(20, 'lift')"
   ]
  },
  {
   "cell_type": "markdown",
   "metadata": {},
   "source": [
    "Top 20 by confidence"
   ]
  },
  {
   "cell_type": "code",
   "execution_count": null,
   "metadata": {},
   "outputs": [],
   "source": [
    "inst.nlargest(20, 'confidence')"
   ]
  },
  {
   "cell_type": "markdown",
   "metadata": {},
   "source": [
    "#### 2"
   ]
  },
  {
   "attachments": {},
   "cell_type": "markdown",
   "metadata": {},
   "source": [
    "Association rule with high confidence are much likes to have high lift, therefore we can observe many repeat records which are redundant. As we can see, the `Eye.shadow` and `Mascara` are rule heads in the most records which means they are more likely to be purchased with others, so we can sightly decrease the prices of other irrelevant products and increase those two above."
   ]
  },
  {
   "cell_type": "markdown",
   "metadata": {},
   "source": [
    "## Problem 7"
   ]
  },
  {
   "attachments": {},
   "cell_type": "markdown",
   "metadata": {},
   "source": [
    "Table-8 comes from an excel-generated `.csv` file."
   ]
  },
  {
   "cell_type": "code",
   "execution_count": null,
   "metadata": {},
   "outputs": [],
   "source": [
    "data = pd.read_csv('Table-8.csv').set_index('student', drop=True)"
   ]
  },
  {
   "cell_type": "markdown",
   "metadata": {},
   "source": [
    "### a"
   ]
  },
  {
   "cell_type": "code",
   "execution_count": null,
   "metadata": {},
   "outputs": [],
   "source": [
    "data * data.loc['EN']"
   ]
  },
  {
   "attachments": {},
   "cell_type": "markdown",
   "metadata": {},
   "source": [
    "As we can see, LN, MH, JH, DU and DS have at least one class the same with EN."
   ]
  },
  {
   "cell_type": "code",
   "execution_count": null,
   "metadata": {},
   "outputs": [],
   "source": [
    "STU = ['SQL', 'DM in R', 'R Prog', 'Regression']"
   ]
  },
  {
   "cell_type": "code",
   "execution_count": null,
   "metadata": {},
   "outputs": [],
   "source": [
    "mean = data[data != 0].mean(axis=1)\n",
    "mean"
   ]
  },
  {
   "cell_type": "code",
   "execution_count": null,
   "metadata": {},
   "outputs": [],
   "source": []
  },
  {
   "attachments": {},
   "cell_type": "markdown",
   "metadata": {},
   "source": [
    "### b\n",
    "\n",
    "The single course should be recommended to EN Spatial based on the single nearst student to him, which is DU."
   ]
  },
  {
   "cell_type": "markdown",
   "metadata": {},
   "source": [
    "### c"
   ]
  },
  {
   "cell_type": "code",
   "execution_count": null,
   "metadata": {},
   "outputs": [],
   "source": [
    "cos_sim = pd.DataFrame(cosine_similarity(data), index=data.index, columns=data.index)\n",
    "cos_sim"
   ]
  },
  {
   "cell_type": "markdown",
   "metadata": {},
   "source": [
    "### d"
   ]
  },
  {
   "cell_type": "code",
   "execution_count": null,
   "metadata": {},
   "outputs": [],
   "source": [
    "cos_sim['EN']"
   ]
  },
  {
   "cell_type": "markdown",
   "metadata": {},
   "source": [
    "### e"
   ]
  },
  {
   "cell_type": "code",
   "execution_count": null,
   "metadata": {},
   "outputs": [],
   "source": [
    "df = pd.DataFrame(cosine_similarity(data.T), index=data.columns, columns=data.columns)\n",
    "df.drop(STU, axis=1, inplace=True)\n",
    "df"
   ]
  },
  {
   "cell_type": "code",
   "execution_count": null,
   "metadata": {},
   "outputs": [],
   "source": [
    "(df * np.array(data.loc['EN']).reshape(9, 1)).sum()\n"
   ]
  },
  {
   "cell_type": "markdown",
   "metadata": {},
   "source": [
    "Python is the recommended cource."
   ]
  }
 ],
 "metadata": {
  "kernelspec": {
   "display_name": "ink",
   "language": "python",
   "name": "python3"
  },
  "language_info": {
   "codemirror_mode": {
    "name": "ipython",
    "version": 3
   },
   "file_extension": ".py",
   "mimetype": "text/x-python",
   "name": "python",
   "nbconvert_exporter": "python",
   "pygments_lexer": "ipython3",
   "version": "3.11.1"
  },
  "orig_nbformat": 4,
  "vscode": {
   "interpreter": {
    "hash": "63c39743f639f3c46951a03907d4fb53ddc9f1051a7ffa803df088dddd89abd3"
   }
  }
 },
 "nbformat": 4,
 "nbformat_minor": 2
}
