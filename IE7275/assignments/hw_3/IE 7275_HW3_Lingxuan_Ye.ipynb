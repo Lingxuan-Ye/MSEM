{
 "cells": [
  {
   "cell_type": "markdown",
   "metadata": {},
   "source": [
    "# IE 7275_HW3_Lingxuan_Ye"
   ]
  },
  {
   "cell_type": "markdown",
   "metadata": {},
   "source": [
    "## Imports"
   ]
  },
  {
   "cell_type": "code",
   "execution_count": null,
   "metadata": {},
   "outputs": [],
   "source": [
    "from typing import Literal\n",
    "\n",
    "import numpy as np\n",
    "import pandas as pd\n",
    "import sympy\n",
    "import scikitplot as skplt\n",
    "\n",
    "from matplotlib import pyplot as plt\n",
    "from sklearn.discriminant_analysis import LinearDiscriminantAnalysis\n",
    "from sklearn.linear_model import LogisticRegression\n",
    "from sklearn.svm import SVC\n",
    "from sklearn.metrics import ConfusionMatrixDisplay, confusion_matrix, accuracy_score"
   ]
  },
  {
   "cell_type": "markdown",
   "metadata": {},
   "source": [
    "## Problem 1"
   ]
  },
  {
   "cell_type": "markdown",
   "metadata": {},
   "source": [
    "### a"
   ]
  },
  {
   "cell_type": "code",
   "execution_count": null,
   "metadata": {},
   "outputs": [],
   "source": [
    "data = pd.read_csv(\"banks-1.csv\")\n",
    "data"
   ]
  },
  {
   "cell_type": "code",
   "execution_count": null,
   "metadata": {},
   "outputs": [],
   "source": [
    "\n",
    "lreg = LogisticRegression(solver=\"liblinear\")\n",
    "\n",
    "## 3.8 and above ##\n",
    "\n",
    "# lreg.fit(\n",
    "#     x:=data[[\"TotExp/Assets\", \"TotLns&Lses/Assets\"]],\n",
    "#     data[\"Financial Condition\"]\n",
    "# )\n",
    "\n",
    "x = data[[\"TotExp/Assets\", \"TotLns&Lses/Assets\"]]\n",
    "lreg.fit(x, data[\"Financial Condition\"])\n",
    "\n",
    "data[\"Predict\"] = lreg.predict(x)\n",
    "data"
   ]
  },
  {
   "cell_type": "markdown",
   "metadata": {},
   "source": [
    "### b"
   ]
  },
  {
   "cell_type": "code",
   "execution_count": null,
   "metadata": {},
   "outputs": [],
   "source": [
    "lreg.intercept_"
   ]
  },
  {
   "cell_type": "code",
   "execution_count": null,
   "metadata": {},
   "outputs": [],
   "source": [
    "lreg.coef_"
   ]
  },
  {
   "cell_type": "markdown",
   "metadata": {},
   "source": [
    "$$\n",
    "\\begin{align*}\n",
    "{Logit}&=0.130104\\times{TotExp/Assets}+0.55673992\\times{TotLns\\&Lses/Assets}-0.30280261\\\\\n",
    "{Odds}&=e^{0.130104}\\times{TotExp/Assets}+0.55673992\\times{TotLns\\&Lses/Assets}-0.30280261\\\\\n",
    "{Probability}&=\\frac{1}{e^{-(0.130104\\times{TotExp/Assets}+0.55673992\\times{TotLns\\&Lses/Assets}-0.30280261)}+1}\\\\\n",
    "\\end{align*}\n",
    "$$"
   ]
  },
  {
   "cell_type": "markdown",
   "metadata": {},
   "source": [
    "### c"
   ]
  },
  {
   "cell_type": "code",
   "execution_count": null,
   "metadata": {},
   "outputs": [],
   "source": [
    "logit = lreg.coef_[0, 0] * 0.11 + lreg.coef_[0, 1] * 0.6 - lreg.intercept_[0]\n",
    "odds = np.exp(logit)\n",
    "prob = 1 / (1 + np.exp(- logit))\n",
    "print(\n",
    "    f\"Logit = {logit}\\n\"\n",
    "    f\"Odds = {odds}\\n\"\n",
    "    f\"Probability = {prob}\"\n",
    ")"
   ]
  },
  {
   "cell_type": "markdown",
   "metadata": {},
   "source": [
    "Classified as being financially weak."
   ]
  },
  {
   "cell_type": "markdown",
   "metadata": {},
   "source": [
    "### d"
   ]
  },
  {
   "cell_type": "code",
   "execution_count": null,
   "metadata": {},
   "outputs": [],
   "source": [
    "logit, prob = sympy.symbols(\"logit, prob\")\n",
    "sympy.solve(\n",
    "    prob - 1 / (sympy.E ** (-logit) + 1),\n",
    "    logit\n",
    ")[0].subs(prob, 0.5)"
   ]
  },
  {
   "cell_type": "markdown",
   "metadata": {},
   "source": [
    "Treshhold for logit is 0."
   ]
  },
  {
   "cell_type": "code",
   "execution_count": null,
   "metadata": {},
   "outputs": [],
   "source": [
    "(sympy.E ** logit).subs(logit, 0)"
   ]
  },
  {
   "cell_type": "markdown",
   "metadata": {},
   "source": [
    "Treshhold for odds is 1."
   ]
  },
  {
   "cell_type": "markdown",
   "metadata": {},
   "source": [
    "### e"
   ]
  },
  {
   "cell_type": "code",
   "execution_count": null,
   "metadata": {},
   "outputs": [],
   "source": [
    "np.exp(lreg.coef_[0, 1])"
   ]
  },
  {
   "cell_type": "markdown",
   "metadata": {},
   "source": [
    "The odds of being financially weak will increase by 1.74 times as total loans & leases increases 1 unit."
   ]
  },
  {
   "cell_type": "markdown",
   "metadata": {},
   "source": [
    "### f\n",
    "\n",
    "Decrease."
   ]
  },
  {
   "cell_type": "markdown",
   "metadata": {},
   "source": [
    "## Problem 2"
   ]
  },
  {
   "cell_type": "markdown",
   "metadata": {},
   "source": [
    "### a\n",
    "\n",
    "$$\n",
    "\\begin{align*}\n",
    "{Logit(Y=1)}&=1.13\\times{Experience}+0.18\\times{Training}-10.98\\\\\n",
    "{Probability(Y=1)}&=\\frac{1}{e^{-(1.13\\times{Experience}+0.18\\times{Training}-10.98)}+1}\\\\\n",
    "\\end{align*}\n",
    "$$"
   ]
  },
  {
   "cell_type": "markdown",
   "metadata": {},
   "source": [
    "### b"
   ]
  },
  {
   "cell_type": "code",
   "execution_count": null,
   "metadata": {},
   "outputs": [],
   "source": [
    "np.exp(1.13)"
   ]
  },
  {
   "cell_type": "markdown",
   "metadata": {},
   "source": [
    "\n",
    "The probability of finishing task on time will increase by 3.10 times as experience increases 1 unit."
   ]
  },
  {
   "cell_type": "markdown",
   "metadata": {},
   "source": [
    "### c"
   ]
  },
  {
   "cell_type": "code",
   "execution_count": null,
   "metadata": {},
   "outputs": [],
   "source": [
    "args = np.array([[9, 8], [9, 7], [8, 7]])\n",
    "probs = 1 / (np.exp(-(0.18 * args[:, 1] + 1.13 * args[:, 0] - 10.98)) + 1)\n",
    "probs"
   ]
  },
  {
   "cell_type": "markdown",
   "metadata": {},
   "source": [
    "## Problem 3"
   ]
  },
  {
   "cell_type": "code",
   "execution_count": null,
   "metadata": {},
   "outputs": [],
   "source": [
    "data = pd.read_excel(\"Universalbank_1500.xlsx\")\n",
    "\n",
    "family_dummy = pd.get_dummies(data[\"Family\"])\n",
    "family_dummy.columns = (f\"Family={i+1}\" for i in range(family_dummy.shape[1]))\n",
    "edu_dummy = pd.get_dummies(data[\"Education\"])\n",
    "edu_dummy.columns = (f\"Education={i+1}\" for i in range(edu_dummy.shape[1]))\n",
    "\n",
    "data = pd.concat((data, family_dummy, edu_dummy), axis=1)\n",
    "data"
   ]
  },
  {
   "cell_type": "code",
   "execution_count": null,
   "metadata": {},
   "outputs": [],
   "source": [
    "cls = data[\"Personal Loan\"]\n",
    "to_drop = [\"ID\", \"ZIP Code\", \"Personal Loan\", \"Family\", \"Education\"]\n",
    "data_ = data.drop(to_drop, axis=1)\n",
    "train = data_.sample(frac=0.6)\n",
    "train_cls = cls[cls.index.isin(train.index)]\n",
    "valid = data_.drop(train.index)\n",
    "valid_cls = cls.drop(train.index)\n",
    "\n",
    "valid_, valid_cls_ = valid.copy(), valid_cls.copy()"
   ]
  },
  {
   "cell_type": "code",
   "execution_count": null,
   "metadata": {},
   "outputs": [],
   "source": [
    "lda = LinearDiscriminantAnalysis()\n",
    "lda.fit(train, train_cls)\n",
    "predicted = lda.predict(valid)\n",
    "prob = lda.predict_proba(valid)\n",
    "prob_0, prob_1 = prob[:, 0], prob[:, 1]\n",
    "prob_0"
   ]
  },
  {
   "cell_type": "markdown",
   "metadata": {},
   "source": [
    "### a"
   ]
  },
  {
   "cell_type": "code",
   "execution_count": null,
   "metadata": {},
   "outputs": [],
   "source": [
    "def desc(type_: Literal[\"acceptors\", \"nonacceptors\"]) -> None:\n",
    "    assert type_.lower() in (\"acceptors\", \"nonacceptors\")\n",
    "    bin_ = 1 if type_ == \"acceptors\" else 0\n",
    "    num_cols = [\"Age\", \"Experience\", \"Income\", \"CCAvg\", \"Mortgage\"]\n",
    "    temp = data[data[\"Personal Loan\"] == bin_].drop(to_drop, axis=1)\n",
    "    num = temp[num_cols]\n",
    "    cat = temp.drop(num_cols, axis=1)\n",
    "    yield num.describe()\n",
    "    yield pd.DataFrame(cat.sum() / cat.shape[0],columns=[\"Percentage\"])"
   ]
  },
  {
   "cell_type": "markdown",
   "metadata": {},
   "source": [
    "#### Acceptors"
   ]
  },
  {
   "cell_type": "code",
   "execution_count": null,
   "metadata": {},
   "outputs": [],
   "source": [
    "desc_ = desc(\"acceptors\")"
   ]
  },
  {
   "cell_type": "markdown",
   "metadata": {},
   "source": [
    "##### Numerical"
   ]
  },
  {
   "cell_type": "code",
   "execution_count": null,
   "metadata": {},
   "outputs": [],
   "source": [
    "next(desc_)"
   ]
  },
  {
   "cell_type": "markdown",
   "metadata": {},
   "source": [
    "##### Categorical"
   ]
  },
  {
   "cell_type": "code",
   "execution_count": null,
   "metadata": {},
   "outputs": [],
   "source": [
    "next(desc_)"
   ]
  },
  {
   "cell_type": "markdown",
   "metadata": {},
   "source": [
    "#### Noncceptors"
   ]
  },
  {
   "cell_type": "code",
   "execution_count": null,
   "metadata": {},
   "outputs": [],
   "source": [
    "desc_ = desc(\"nonacceptors\")"
   ]
  },
  {
   "cell_type": "markdown",
   "metadata": {},
   "source": [
    "##### Numerical"
   ]
  },
  {
   "cell_type": "code",
   "execution_count": null,
   "metadata": {},
   "outputs": [],
   "source": [
    "next(desc_)"
   ]
  },
  {
   "cell_type": "markdown",
   "metadata": {},
   "source": [
    "##### Categorical"
   ]
  },
  {
   "cell_type": "code",
   "execution_count": null,
   "metadata": {},
   "outputs": [],
   "source": [
    "next(desc_)"
   ]
  },
  {
   "cell_type": "markdown",
   "metadata": {},
   "source": [
    "Substantially different predictors:\n",
    "\n",
    "- `percentage of CD account`\n",
    "\n",
    "- `Education=1`\n",
    "\n",
    "- `mean Income`\n",
    "\n",
    "- `mean Morgage`\n",
    "\n",
    "- `mean CCAvg`"
   ]
  },
  {
   "cell_type": "markdown",
   "metadata": {},
   "source": [
    "### b"
   ]
  },
  {
   "cell_type": "code",
   "execution_count": null,
   "metadata": {},
   "outputs": [],
   "source": [
    "matrix = confusion_matrix(valid_cls, predicted)\n",
    "ConfusionMatrixDisplay(matrix, display_labels=[False, True]).plot()"
   ]
  },
  {
   "cell_type": "code",
   "execution_count": null,
   "metadata": {},
   "outputs": [],
   "source": [
    "# number of cases that predicted True are always 0 for unknown reason\n",
    "# environment are as follow:\n",
    "\n",
    "!pip freeze > requirements.txt\n",
    "\n",
    "from sys import version_info\n",
    "version_info"
   ]
  },
  {
   "cell_type": "markdown",
   "metadata": {},
   "source": [
    "#### Accuracy Rate"
   ]
  },
  {
   "cell_type": "code",
   "execution_count": null,
   "metadata": {},
   "outputs": [],
   "source": [
    "matrix[0, 0] / 600"
   ]
  },
  {
   "cell_type": "markdown",
   "metadata": {},
   "source": [
    "#### Type I"
   ]
  },
  {
   "cell_type": "code",
   "execution_count": null,
   "metadata": {},
   "outputs": [],
   "source": [
    "matrix[1, 0]"
   ]
  },
  {
   "cell_type": "markdown",
   "metadata": {},
   "source": [
    "#### Type II"
   ]
  },
  {
   "cell_type": "code",
   "execution_count": null,
   "metadata": {},
   "outputs": [],
   "source": [
    "matrix[0, 1]"
   ]
  },
  {
   "cell_type": "markdown",
   "metadata": {},
   "source": [
    "False negative is more than false positive."
   ]
  },
  {
   "cell_type": "code",
   "execution_count": null,
   "metadata": {},
   "outputs": [],
   "source": [
    "valid[\"Actual\"] = valid_cls\n",
    "valid[\"Predicted\"] = predicted\n",
    "valid[\"Prob_0\"] = prob_0\n",
    "valid"
   ]
  },
  {
   "cell_type": "markdown",
   "metadata": {},
   "source": [
    "#### False Positive"
   ]
  },
  {
   "cell_type": "code",
   "execution_count": null,
   "metadata": {},
   "outputs": [],
   "source": [
    "valid[(valid[\"Actual\"] == 0) & (valid[\"Predicted\"] == 1)]"
   ]
  },
  {
   "cell_type": "markdown",
   "metadata": {},
   "source": [
    "No one is missclassified as acceptor."
   ]
  },
  {
   "cell_type": "markdown",
   "metadata": {},
   "source": [
    "#### False Negative"
   ]
  },
  {
   "cell_type": "code",
   "execution_count": null,
   "metadata": {},
   "outputs": [],
   "source": [
    "valid[(valid[\"Actual\"] == 1) & (valid[\"Predicted\"] == 0)].sample(3)"
   ]
  },
  {
   "cell_type": "markdown",
   "metadata": {},
   "source": [
    "They have relatively high income and families, and are aged and well-educated. Those could be the reason that they are misclassified."
   ]
  },
  {
   "cell_type": "markdown",
   "metadata": {},
   "source": [
    "### c"
   ]
  },
  {
   "cell_type": "code",
   "execution_count": null,
   "metadata": {},
   "outputs": [],
   "source": [
    "skplt.metrics.plot_cumulative_gain(valid_cls, prob)"
   ]
  },
  {
   "cell_type": "markdown",
   "metadata": {},
   "source": [
    "Model trained prefers classifing acceptor instead of nonacceptor."
   ]
  },
  {
   "cell_type": "code",
   "execution_count": null,
   "metadata": {},
   "outputs": [],
   "source": [
    "decile = pd.DataFrame(\n",
    "    {\n",
    "        \"Actual\": valid_cls,\n",
    "        \"Prob\": prob_1\n",
    "    }\n",
    ").sort_values(\"Prob\", ascending=False).reset_index()\n",
    "\n",
    "decile[\"Gain\"] = decile[\"Actual\"].cumsum()\n",
    "\n",
    "loc = np.random.choice(decile.index, 10)\n",
    "loc.sort()\n",
    "percent = decile.loc[loc, \"Gain\"]\n",
    "rand = np.array([(i + 1) / 10 for i in range(10)]) * decile.shape[0] / 2\n",
    "actual_rand_ratio = percent / rand\n",
    "actual_rand_ratio"
   ]
  },
  {
   "cell_type": "markdown",
   "metadata": {},
   "source": [
    "#### Decilewise lift chart"
   ]
  },
  {
   "cell_type": "code",
   "execution_count": null,
   "metadata": {},
   "outputs": [],
   "source": [
    "plt.bar(\n",
    "    np.array([(i + 1) / 10 for i in range(10)]),\n",
    "    actual_rand_ratio,\n",
    "    width=0.2\n",
    ")"
   ]
  },
  {
   "cell_type": "markdown",
   "metadata": {},
   "source": [
    "### d"
   ]
  },
  {
   "cell_type": "code",
   "execution_count": null,
   "metadata": {},
   "outputs": [],
   "source": [
    "lreg = LogisticRegression(solver=\"liblinear\")\n",
    "lreg.fit(train, train_cls)\n",
    "predicted = lreg.predict_proba(valid_)\n",
    "skplt.metrics.plot_cumulative_gain(valid_cls_, predicted)"
   ]
  },
  {
   "cell_type": "markdown",
   "metadata": {},
   "source": [
    "New model trained prefers to predict acceptor as well and we cannot determine which model is better from the results."
   ]
  },
  {
   "cell_type": "code",
   "execution_count": null,
   "metadata": {},
   "outputs": [],
   "source": [
    "decile = pd.DataFrame(\n",
    "    {\n",
    "        \"Actual\": valid_cls_,\n",
    "        \"Prob\": predicted[:, 1]\n",
    "    }\n",
    ").sort_values(\"Prob\", ascending=False).reset_index()\n",
    "\n",
    "decile[\"Gain\"] = decile[\"Actual\"].cumsum()\n",
    "\n",
    "loc = np.random.choice(decile.index, 10)\n",
    "loc.sort()\n",
    "percent = decile.loc[loc, \"Gain\"]\n",
    "rand = np.array([(i + 1) / 10 for i in range(10)]) * decile.shape[0] / 2\n",
    "actual_rand_ratio = percent / rand\n",
    "\n",
    "plt.bar(\n",
    "    np.array([(i + 1) / 10 for i in range(10)]),\n",
    "    actual_rand_ratio,\n",
    "    width=0.2\n",
    ")"
   ]
  },
  {
   "cell_type": "markdown",
   "metadata": {},
   "source": [
    "### f"
   ]
  },
  {
   "cell_type": "markdown",
   "metadata": {},
   "source": [
    "Lower the cut-off value because the cost of false positive is much lower than false negative."
   ]
  },
  {
   "cell_type": "markdown",
   "metadata": {},
   "source": [
    "## Problem 5"
   ]
  },
  {
   "cell_type": "code",
   "execution_count": null,
   "metadata": {},
   "outputs": [],
   "source": [
    "data = df = pd.DataFrame(\n",
    "    [[3.5, 4.0, 1], [2.0, 4.0, 1], [2.0, 4.0, 1], [1.5, 7.0, 1], [7.0, 6.5, 1],\n",
    "     [2.1, 2.5, 0], [8.0, 4.0, 0], [9.1, 4.5, 0]],\n",
    "    columns=[\"A\", \"B\", \"Class\"])"
   ]
  },
  {
   "cell_type": "markdown",
   "metadata": {},
   "source": [
    "### a"
   ]
  },
  {
   "cell_type": "code",
   "execution_count": null,
   "metadata": {},
   "outputs": [],
   "source": [
    "x_train=data.drop([\"Class\"],axis=1)\n",
    "y_train=data[\"Class\"]\n",
    "\n",
    "svc = SVC(kernel=\"linear\", C=1)\n",
    "\n",
    "svc.fit(x_train, y_train)\n",
    "svc.support_vectors_"
   ]
  },
  {
   "cell_type": "code",
   "execution_count": null,
   "metadata": {},
   "outputs": [],
   "source": [
    "svc.coef_"
   ]
  },
  {
   "cell_type": "markdown",
   "metadata": {},
   "source": [
    "### b"
   ]
  },
  {
   "cell_type": "code",
   "execution_count": null,
   "metadata": {},
   "outputs": [],
   "source": [
    "svc.intercept_"
   ]
  },
  {
   "cell_type": "code",
   "execution_count": null,
   "metadata": {},
   "outputs": [],
   "source": [
    "svc.dual_coef_"
   ]
  },
  {
   "cell_type": "markdown",
   "metadata": {},
   "source": [
    "### d"
   ]
  },
  {
   "cell_type": "code",
   "execution_count": null,
   "metadata": {},
   "outputs": [],
   "source": [
    "plt.scatter(x_train.iloc[:, 0], x_train.iloc[:, 1], c=y_train, cmap=\"winter\")\n",
    "ax = plt.gca()\n",
    "xlim = ax.get_xlim()\n",
    "w = svc.coef_[0]\n",
    "a = -w[0] / w[1]\n",
    "x = np.linspace(xlim[0], xlim[1])\n",
    "y = a * x - svc.intercept_[0] / w[1]\n",
    "plt.plot(x, y)\n",
    "y = a * x - (svc.intercept_[0] - 1) / w[1]\n",
    "plt.plot(x, y, \"k--\")\n",
    "y = a * x - (svc.intercept_[0] + 1) / w[1]\n",
    "plt.plot(x, y, \"k--\")"
   ]
  },
  {
   "cell_type": "markdown",
   "metadata": {},
   "source": [
    "## Problem 6"
   ]
  },
  {
   "cell_type": "code",
   "execution_count": null,
   "metadata": {},
   "outputs": [],
   "source": [
    "data = pd.read_excel(\n",
    "    \"Universalbank_1500.xlsx\").drop([\"ZIP Code\", \"ID\"],\n",
    "    axis=1\n",
    ")"
   ]
  },
  {
   "cell_type": "markdown",
   "metadata": {},
   "source": [
    "### a"
   ]
  },
  {
   "cell_type": "code",
   "execution_count": null,
   "metadata": {},
   "outputs": [],
   "source": [
    "b_train = data.sample(frac=2 / 3)\n",
    "b_valid = data.drop(b_train.index)\n",
    "x = b_train.drop([\"Personal Loan\"], axis=1)\n",
    "y = b_train[\"Personal Loan\"]\n",
    "x_val = b_valid.drop([\"Personal Loan\"], axis=1)\n",
    "y_val = b_valid[\"Personal Loan\"]\n",
    "svc = SVC(kernel=\"linear\", C=1)\n",
    "svc.fit(x, y)"
   ]
  },
  {
   "cell_type": "markdown",
   "metadata": {},
   "source": [
    "### b"
   ]
  },
  {
   "cell_type": "code",
   "execution_count": null,
   "metadata": {},
   "outputs": [],
   "source": [
    "svc.support_vectors_"
   ]
  },
  {
   "cell_type": "markdown",
   "metadata": {},
   "source": [
    "### c"
   ]
  },
  {
   "cell_type": "code",
   "execution_count": null,
   "metadata": {},
   "outputs": [],
   "source": [
    "shuffled=data.sample(frac=1)\n",
    "folds=np.array_split(shuffled,5)\n",
    "fold1=folds[0]\n",
    "\n",
    "x1=fold1.drop([\"Personal Loan\"],axis=1)\n",
    "y1=fold1[\"Personal Loan\"]\n",
    "\n",
    "fold2=folds[1]\n",
    "x2=fold2.drop([\"Personal Loan\"],axis=1)\n",
    "y2=fold2[\"Personal Loan\"]\n",
    "\n",
    "fold3=folds[2]\n",
    "x3=fold3.drop([\"Personal Loan\"],axis=1)\n",
    "y3=fold3[\"Personal Loan\"]\n",
    "\n",
    "fold4=folds[3]\n",
    "x4=fold4.drop([\"Personal Loan\"],axis=1)\n",
    "y4=fold4[\"Personal Loan\"]\n",
    "\n",
    "fold5=folds[4]\n",
    "x5=fold5.drop([\"Personal Loan\"],axis=1)\n",
    "y5=fold5[\"Personal Loan\"]"
   ]
  },
  {
   "cell_type": "code",
   "execution_count": null,
   "metadata": {},
   "outputs": [],
   "source": [
    "# fold 1\n",
    "\n",
    "x = pd.concat([x2, x3, x4, x5], axis=0)\n",
    "y = pd.concat([y2, y3, y4, y5], axis=0)\n",
    "\n",
    "svc = SVC(kernel=\"linear\", C=1.0)\n",
    "svc.fit(x, y)\n",
    "accuracy_score(y1, svc.predict(x1))"
   ]
  },
  {
   "cell_type": "code",
   "execution_count": null,
   "metadata": {},
   "outputs": [],
   "source": [
    "# fold 2\n",
    "\n",
    "x = pd.concat([x1, x3, x4, x5], axis=0)\n",
    "y = pd.concat([y1, y3, y4, y5], axis=0)\n",
    "\n",
    "svc = SVC(kernel=\"linear\", C=1.0)\n",
    "svc.fit(x, y)\n",
    "accuracy_score(y2, svc.predict(x2))"
   ]
  },
  {
   "cell_type": "code",
   "execution_count": null,
   "metadata": {},
   "outputs": [],
   "source": [
    "# fold 3\n",
    "\n",
    "x = pd.concat([x2, x1, x4, x5], axis=0)\n",
    "y = pd.concat([y2, y1, y4, y5], axis=0)\n",
    "\n",
    "svc = SVC(kernel=\"linear\", C=1.0)\n",
    "svc.fit(x, y)\n",
    "accuracy_score(y3, svc.predict(x3))"
   ]
  },
  {
   "cell_type": "code",
   "execution_count": null,
   "metadata": {},
   "outputs": [],
   "source": [
    "# fold 4\n",
    "\n",
    "x = pd.concat([x2, x3, x1, x5], axis=0)\n",
    "y = pd.concat([y2, y3, y1, y5], axis=0)\n",
    "\n",
    "svc = SVC(kernel=\"linear\", C=1.0)\n",
    "svc.fit(x, y)\n",
    "accuracy_score(y4, svc.predict(x4))"
   ]
  },
  {
   "cell_type": "code",
   "execution_count": null,
   "metadata": {},
   "outputs": [],
   "source": [
    "# fold 5\n",
    "\n",
    "x = pd.concat([x2, x3, x4, x1], axis=0)\n",
    "y = pd.concat([y2, y3, y4, y1], axis=0)\n",
    "\n",
    "svc = SVC(kernel=\"linear\", C=1.0)\n",
    "svc.fit(x, y)\n",
    "accuracy_score(y5, svc.predict(x5))"
   ]
  }
 ],
 "metadata": {
  "kernelspec": {
   "display_name": "Python 3.10.3 ('base_venv')",
   "language": "python",
   "name": "python3"
  },
  "language_info": {
   "codemirror_mode": {
    "name": "ipython",
    "version": 3
   },
   "file_extension": ".py",
   "mimetype": "text/x-python",
   "name": "python",
   "nbconvert_exporter": "python",
   "pygments_lexer": "ipython3",
   "version": "3.10.3"
  },
  "orig_nbformat": 4,
  "vscode": {
   "interpreter": {
    "hash": "89bc4e4d57955752104a90edca27078e178f7cbbec3cd6756359e7c00dfd30f4"
   }
  }
 },
 "nbformat": 4,
 "nbformat_minor": 2
}
