{
 "cells": [
  {
   "cell_type": "code",
   "execution_count": null,
   "id": "2960f19c",
   "metadata": {},
   "outputs": [],
   "source": [
    "from calendar import month_abbr\n",
    "from typing import Sequence, Tuple\n",
    "\n",
    "import numpy as np\n",
    "import pandas as pd\n",
    "import seaborn as sns\n",
    "from matplotlib import pyplot as plt\n",
    "from matplotlib.axes import Axes\n",
    "from sklearn import preprocessing\n",
    "from sklearn.decomposition import PCA"
   ]
  },
  {
   "cell_type": "markdown",
   "id": "acf995dc",
   "metadata": {},
   "source": [
    "# Problem 1"
   ]
  },
  {
   "cell_type": "code",
   "execution_count": null,
   "id": "5c7c6140",
   "metadata": {},
   "outputs": [],
   "source": [
    "forestfires = pd.read_csv(\"forestfires.csv\")\n",
    "\n",
    "forestfires[\"month\"] = forestfires[\"month\"].str.capitalize().map(\n",
    "    dict(\n",
    "        (v, k) for k, v in enumerate(month_abbr)\n",
    "    )\n",
    ")\n",
    "\n",
    "forestfires"
   ]
  },
  {
   "cell_type": "markdown",
   "id": "3994af09",
   "metadata": {},
   "source": [
    "## a"
   ]
  },
  {
   "cell_type": "code",
   "execution_count": null,
   "id": "07cefe7e",
   "metadata": {},
   "outputs": [],
   "source": [
    "fig, axes_arr = plt.subplots(2, 2)\n",
    "fig.set_size_inches(10, 10)\n",
    "\n",
    "def plot_(loc: Tuple[int, int], x_lable: str, color: str) -> None:\n",
    "    axes: Axes = axes_arr[loc[0], loc[1]]\n",
    "    axes.set_title(f\"area vs. {x_lable}\")\n",
    "    axes.set_xlabel(x_lable)\n",
    "    axes.set_ylabel(\"area\")\n",
    "    axes.scatter(forestfires[x_lable], forestfires[\"area\"], s=4, c=color)\n",
    "\n",
    "plot_((0, 0), \"temp\", \"b\")\n",
    "plot_((0, 1), \"month\", \"r\")\n",
    "plot_((1, 0), \"DC\", \"g\")\n",
    "plot_((1, 1), \"wind\", \"y\")"
   ]
  },
  {
   "cell_type": "markdown",
   "id": "9a9c4b60",
   "metadata": {},
   "source": [
    "## b"
   ]
  },
  {
   "cell_type": "code",
   "execution_count": null,
   "id": "a08bae3e",
   "metadata": {},
   "outputs": [],
   "source": [
    "sns.histplot(forestfires[\"wind\"])"
   ]
  },
  {
   "cell_type": "markdown",
   "id": "e1027dfc",
   "metadata": {},
   "source": [
    "## c"
   ]
  },
  {
   "cell_type": "code",
   "execution_count": null,
   "id": "3e466e69",
   "metadata": {},
   "outputs": [],
   "source": [
    "forestfires[\"wind\"].describe()"
   ]
  },
  {
   "cell_type": "markdown",
   "id": "8391c326",
   "metadata": {},
   "source": [
    "## d"
   ]
  },
  {
   "cell_type": "code",
   "execution_count": null,
   "id": "5ef310e5",
   "metadata": {},
   "outputs": [],
   "source": [
    "sns.histplot(forestfires[\"wind\"], kde=True)"
   ]
  },
  {
   "cell_type": "markdown",
   "id": "b6ea26e2",
   "metadata": {},
   "source": [
    "## e"
   ]
  },
  {
   "cell_type": "code",
   "execution_count": null,
   "id": "ac384bbf",
   "metadata": {},
   "outputs": [],
   "source": [
    "forestfires[\"month\"].plot(kind=\"density\", xticks=range(1, 13), xlim=(1, 12), xlabel=\"month\")"
   ]
  },
  {
   "cell_type": "markdown",
   "id": "a6bc4ed5",
   "metadata": {},
   "source": [
    "## f"
   ]
  },
  {
   "cell_type": "code",
   "execution_count": null,
   "id": "e55e238e",
   "metadata": {},
   "outputs": [],
   "source": [
    "pd.plotting.scatter_matrix(\n",
    "    forestfires[[\"temp\", \"RH\", \"DC\", \"DMC\"]],\n",
    "    figsize=(20, 20)\n",
    ")\n",
    "plt.show()"
   ]
  },
  {
   "cell_type": "markdown",
   "id": "0a2e8f08",
   "metadata": {},
   "source": [
    "- As we can see, `DC` and `DMC` indices from the FWI system have a strong positive correlation which means these two variables may increase and decrease simultaneously.\n",
    "\n",
    "- Temperature (`temp`) and relative humidity (`RH`) have a weak negative correlation.\n",
    "\n",
    "- Other combinations of variables seem not to be correlated."
   ]
  },
  {
   "cell_type": "markdown",
   "id": "b5556f54",
   "metadata": {},
   "source": [
    "## g"
   ]
  },
  {
   "cell_type": "code",
   "execution_count": null,
   "id": "45acf717",
   "metadata": {},
   "outputs": [],
   "source": [
    "fig, axes_arr = plt.subplots(1, 3)\n",
    "fig.set_size_inches(30, 10)\n",
    "\n",
    "axes_arr[0].boxplot(forestfires[\"wind\"])\n",
    "axes_arr[0].set_title(\"Boxplot of wind\")\n",
    "axes_arr[1].boxplot(forestfires[\"ISI\"])\n",
    "axes_arr[1].set_title(\"Boxplot of ISI\")\n",
    "axes_arr[2].boxplot(forestfires[\"DC\"])\n",
    "axes_arr[2].set_title(\"Boxplot of DC\")"
   ]
  },
  {
   "cell_type": "markdown",
   "id": "ccd9c80d",
   "metadata": {},
   "source": [
    "- `wind`:\n",
    "\n",
    "    There are several outliers above $Q_4$.\n",
    "\n",
    "- `ISI`:\n",
    "\n",
    "    There are many outliers stacking above $Q_4$ and a single extreme outlier far distant from the majority.\n",
    "\n",
    "- `DC`:\n",
    "\n",
    "    There are several outliers under but close to $Q_0$."
   ]
  },
  {
   "cell_type": "markdown",
   "id": "206d09d5",
   "metadata": {},
   "source": [
    "## h"
   ]
  },
  {
   "cell_type": "code",
   "execution_count": null,
   "id": "acb8b482",
   "metadata": {},
   "outputs": [],
   "source": [
    "fig, axes_arr = plt.subplots(1, 2)\n",
    "fig.set_size_inches(20, 10)\n",
    "\n",
    "axes_arr[0].hist(forestfires[\"DMC\"])\n",
    "axes_arr[1].hist(np.log(forestfires[\"DMC\"]))"
   ]
  },
  {
   "cell_type": "markdown",
   "id": "66bd7c5f",
   "metadata": {},
   "source": [
    "Comparing to the histogram of `DMC`, the histogram of log of `DMC` is skewed to the left and has a higher kurtosis."
   ]
  },
  {
   "cell_type": "markdown",
   "id": "5079bffa",
   "metadata": {},
   "source": [
    "# Problem 2"
   ]
  },
  {
   "cell_type": "code",
   "execution_count": null,
   "id": "53d5b12d",
   "metadata": {},
   "outputs": [],
   "source": [
    "cereals = pd.read_csv(\"Cereals-1.csv\")\n",
    "cereals"
   ]
  },
  {
   "cell_type": "markdown",
   "id": "d9d4028f",
   "metadata": {},
   "source": [
    "## a\n",
    "\n",
    "- quantitative / numerical:\n",
    "\n",
    "    - `calories`\n",
    "    - `protein`\n",
    "    - `fat`\n",
    "    - `sodium`\n",
    "    - `fiber`\n",
    "    - `carbo`\n",
    "    - `sugars`\n",
    "    - `potass`\n",
    "    - `vitamins`\n",
    "    - `weight`\n",
    "    - `cups`\n",
    "    - `rating`\n",
    "\n",
    "- ordinal:\n",
    "\n",
    "    - `shelf`\n",
    "\n",
    "- nominal:\n",
    "\n",
    "    - `mfr`\n",
    "    - `type`"
   ]
  },
  {
   "cell_type": "markdown",
   "id": "f26a6960",
   "metadata": {},
   "source": [
    "## b"
   ]
  },
  {
   "cell_type": "code",
   "execution_count": null,
   "id": "7599c3db",
   "metadata": {},
   "outputs": [],
   "source": [
    "numericals = cereals[[\n",
    "    \"calories\",\n",
    "    \"protein\",\n",
    "    \"fat\",\n",
    "    \"sodium\",\n",
    "    \"fiber\",\n",
    "    \"carbo\",\n",
    "    \"sugars\",\n",
    "    \"potass\",\n",
    "    \"vitamins\",\n",
    "    \"weight\",\n",
    "    \"cups\",\n",
    "    \"rating\"\n",
    "]]\n",
    "numericals.describe()"
   ]
  },
  {
   "cell_type": "markdown",
   "id": "7aab82b3",
   "metadata": {},
   "source": [
    "## c"
   ]
  },
  {
   "cell_type": "code",
   "execution_count": null,
   "id": "cdf3eb7e",
   "metadata": {},
   "outputs": [],
   "source": [
    "numericals.hist(figsize=(20, 20))\n",
    "plt.show()"
   ]
  },
  {
   "cell_type": "markdown",
   "id": "e8dce9ca",
   "metadata": {},
   "source": [
    "- `sodium` has the largest variablity with range from 0 to 320.\n",
    "\n",
    "- seem skewed:\n",
    "\n",
    "    - `protein`\n",
    "    - `fat`\n",
    "    - `fiber`\n",
    "    - `potass`\n",
    "    - `rating`\n",
    "\n",
    "- some values of `vitamins` seem to be extreme outliers."
   ]
  },
  {
   "cell_type": "markdown",
   "id": "c4b67889",
   "metadata": {},
   "source": [
    "## d"
   ]
  },
  {
   "cell_type": "code",
   "execution_count": null,
   "id": "cd8c2818",
   "metadata": {},
   "outputs": [],
   "source": [
    "plt.boxplot(\n",
    "    (\n",
    "        cereals[cereals[\"type\"]==\"C\"][\"calories\"],\n",
    "        cereals[cereals[\"type\"]==\"H\"][\"calories\"]\n",
    "    ),\n",
    "    labels=(\"cold\", \"hot\")\n",
    ")\n",
    "plt.show()"
   ]
  },
  {
   "cell_type": "markdown",
   "id": "623ff3ad",
   "metadata": {},
   "source": [
    "- The `calories` of cold cereals varies in a wide range and has many outliers.\n",
    "\n",
    "- Because the `calories` of hot cereals has extremely small volume of data, we can not draw any conclusions about its distribution and the correlation with the `calories` of cold cereals."
   ]
  },
  {
   "cell_type": "markdown",
   "id": "397eb9b1",
   "metadata": {},
   "source": [
    "## e"
   ]
  },
  {
   "cell_type": "code",
   "execution_count": null,
   "id": "bb80b649",
   "metadata": {},
   "outputs": [],
   "source": [
    "plt.boxplot(\n",
    "    (\n",
    "        cereals[cereals[\"shelf\"]==1][\"rating\"],\n",
    "        cereals[cereals[\"shelf\"]==2][\"rating\"],\n",
    "        cereals[cereals[\"shelf\"]==3][\"rating\"]\n",
    "    ),\n",
    "    labels=(1, 2, 3)\n",
    ")\n",
    "plt.show()"
   ]
  },
  {
   "cell_type": "markdown",
   "id": "5239fc05",
   "metadata": {},
   "source": [
    "Comsuming `rating` for `shelf` height 2 is relatively lower than other two heights. Therefore we could consider removing `shelf` height 2."
   ]
  },
  {
   "cell_type": "markdown",
   "id": "1fba1d05",
   "metadata": {},
   "source": [
    "## f"
   ]
  },
  {
   "cell_type": "code",
   "execution_count": null,
   "id": "64f751d1",
   "metadata": {},
   "outputs": [],
   "source": [
    "numericals.corr()"
   ]
  },
  {
   "cell_type": "code",
   "execution_count": null,
   "id": "8b908029",
   "metadata": {},
   "outputs": [],
   "source": [
    "pd.plotting.scatter_matrix(\n",
    "    numericals,\n",
    "    figsize=(20, 20)\n",
    ")\n",
    "plt.show()"
   ]
  },
  {
   "cell_type": "markdown",
   "id": "67ef635d",
   "metadata": {},
   "source": [
    "- `fiber` and `potass`.\n",
    "\n",
    "- Remove one of the pair of variables that has strong correlation.\n",
    "\n",
    "- See code cell below:"
   ]
  },
  {
   "cell_type": "code",
   "execution_count": null,
   "id": "07879e5f",
   "metadata": {},
   "outputs": [],
   "source": [
    "normalized = pd.DataFrame(\n",
    "    preprocessing.scale(numericals),\n",
    "    columns=numericals.columns\n",
    ")\n",
    "(normalized.corr() - numericals.corr()).round(4)"
   ]
  },
  {
   "cell_type": "markdown",
   "id": "cb1c7384",
   "metadata": {},
   "source": [
    "According to the table above, the correlations would **NOT** change if we normalized the data first."
   ]
  },
  {
   "cell_type": "markdown",
   "id": "b5d41db5",
   "metadata": {},
   "source": [
    "## g"
   ]
  },
  {
   "cell_type": "code",
   "execution_count": null,
   "id": "f21af84e",
   "metadata": {},
   "outputs": [],
   "source": [
    "cal2rating = cereals.iloc[:, 3:].dropna(axis=0)\n",
    "\n",
    "pcs = PCA()\n",
    "pcs.fit(cal2rating)\n",
    "pcs_summary = pd.DataFrame({\n",
    "    \"Standard deviation\": np.sqrt(pcs.explained_variance_),\n",
    "    \"Proportion of variance\": pcs.explained_variance_ratio_,\n",
    "    \"Cumulative proportion\": np.cumsum(pcs.explained_variance_ratio_)\n",
    "}).T\n",
    "\n",
    "pcs_summary.columns = (f\"PC{i+1}\" for i in range(pcs_summary.shape[1]))\n",
    "pcs_summary.round(4)"
   ]
  },
  {
   "cell_type": "code",
   "execution_count": null,
   "id": "b492d116",
   "metadata": {},
   "outputs": [],
   "source": [
    "INFO_RATIO = 0.85\n",
    "\n",
    "pcs_components = pd.DataFrame(\n",
    "    pcs.components_.T,\n",
    "    columns=pcs_summary.columns,\n",
    "    index=cal2rating.columns\n",
    ")\n",
    "\n",
    "for i, j in enumerate(pcs_summary.loc[\"Cumulative proportion\"]):\n",
    "    if j >= INFO_RATIO:\n",
    "        num_of_pc = i + 1\n",
    "        break\n",
    "\n",
    "pcs_components.iloc[:, :num_of_pc]"
   ]
  },
  {
   "cell_type": "code",
   "execution_count": null,
   "id": "40a95abb",
   "metadata": {},
   "outputs": [],
   "source": [
    "scores = pd.DataFrame(pcs.transform(cal2rating), columns=pcs_summary.columns)\n",
    "scores.iloc[:, :num_of_pc]"
   ]
  },
  {
   "cell_type": "markdown",
   "id": "31791906",
   "metadata": {},
   "source": [
    "# Problem 3"
   ]
  },
  {
   "cell_type": "code",
   "execution_count": null,
   "id": "1098d09f",
   "metadata": {},
   "outputs": [],
   "source": [
    "house_price = pd.read_csv(\"BostonHousing-1.csv\")\n",
    "house_price"
   ]
  },
  {
   "cell_type": "markdown",
   "id": "9b22f2c2",
   "metadata": {},
   "source": [
    "- `CRIM`: Per capita crime rate by town\n",
    "- `ZN`: Proportion of residential land zoned for lots over 25,000 sq. ft\n",
    "- `INDUS`: Proportion of non-retail business acres per town\n",
    "- `CHAS`: Charles River dummy variable (= 1 if tract bounds river; 0 otherwise)\n",
    "- `NOX`: Nitric oxide concentration (parts per 10 million)\n",
    "- `RM`: Average number of rooms per dwelling\n",
    "- `AGE`: Proportion of owner-occupied units built prior to 1940\n",
    "- `DIS`: Weighted distances to five Boston employment centers\n",
    "- `RAD`: Index of accessibility to radial highways\n",
    "- `TAX`: Full-value property tax rate per $10,000\n",
    "- `PTRATIO`: Pupil-teacher ratio by town\n",
    "- `LSTAT`: Percentage of lower status of the population\n",
    "- `MEDV`: Median value of owner-occupied homes in $1000s\n",
    "- `CAT. MEDV`: 1 if MEDV > 30 else 0"
   ]
  },
  {
   "cell_type": "markdown",
   "id": "68a27bd6",
   "metadata": {},
   "source": [
    "## a"
   ]
  },
  {
   "cell_type": "code",
   "execution_count": null,
   "id": "960e7dd5",
   "metadata": {},
   "outputs": [],
   "source": [
    "ctg_cols = [\"CHAS\", \"RAD\", \"CAT. MEDV\"]\n",
    "numericals = house_price.drop(ctg_cols, axis=1)\n",
    "categoricals = house_price.loc[:, ctg_cols]"
   ]
  },
  {
   "cell_type": "markdown",
   "id": "b40aff20",
   "metadata": {},
   "source": [
    "Standardize numerical variables as follow (if apply max-min rescaling, it will be extremely affected by outliers):"
   ]
  },
  {
   "cell_type": "code",
   "execution_count": null,
   "id": "35e0d638",
   "metadata": {},
   "outputs": [],
   "source": [
    "scaled_nmr = pd.DataFrame(\n",
    "    preprocessing.scale(numericals),\n",
    "    columns=numericals.columns\n",
    ")\n",
    "\n",
    "scaled_nmr"
   ]
  },
  {
   "cell_type": "markdown",
   "id": "ab205c61",
   "metadata": {},
   "source": [
    "Max-min rescale categorical variables to make them have a same range ([0, 1])."
   ]
  },
  {
   "cell_type": "code",
   "execution_count": null,
   "id": "e2a17f45",
   "metadata": {},
   "outputs": [],
   "source": [
    "scaled_ctg = (categoricals - categoricals.min()) / (categoricals.max() - categoricals.min())\n",
    "scaled_ctg"
   ]
  },
  {
   "cell_type": "markdown",
   "id": "87f1df82",
   "metadata": {},
   "source": [
    "## b"
   ]
  },
  {
   "cell_type": "code",
   "execution_count": null,
   "id": "ad72b2dd",
   "metadata": {},
   "outputs": [],
   "source": [
    "scaled = scaled_nmr.join(scaled_ctg)\n",
    "\n",
    "correlation = pd.DataFrame(\n",
    "    scaled.corrwith(scaled.iloc[:, -1]),\n",
    "    columns=[\"Correlation\"]\n",
    ")\n",
    "\n",
    "correlation"
   ]
  },
  {
   "cell_type": "code",
   "execution_count": null,
   "id": "d3e63a1c",
   "metadata": {},
   "outputs": [],
   "source": [
    "correlation.sort_values(\"Correlation\")[::-1]"
   ]
  },
  {
   "cell_type": "markdown",
   "id": "e0e452fd",
   "metadata": {},
   "source": [
    "Top 5 features:\n",
    "\n",
    "1. `MEDV`\n",
    "2. `RM`\n",
    "3. `ZN`\n",
    "4. `DIS`\n",
    "5. `CHAS`"
   ]
  },
  {
   "cell_type": "markdown",
   "id": "c080475b",
   "metadata": {},
   "source": [
    "## c"
   ]
  },
  {
   "cell_type": "code",
   "execution_count": null,
   "id": "b9650787",
   "metadata": {},
   "outputs": [],
   "source": [
    "pcs_o = PCA()\n",
    "pcs_o.fit(house_price)\n",
    "components_o = pd.DataFrame(\n",
    "    pcs_o.components_.T,\n",
    "    columns=(f\"PC{i+1}\" for i in range(len(house_price.columns))),\n",
    "    index=house_price.columns\n",
    ")\n",
    "\n",
    "pcs_p = PCA()\n",
    "pcs_p.fit(scaled)\n",
    "components_p = pd.DataFrame(\n",
    "    pcs_p.components_.T,\n",
    "    columns=(f\"PC{i+1}\" for i in range(len(scaled.columns))),\n",
    "    index=scaled.columns\n",
    ")"
   ]
  },
  {
   "cell_type": "code",
   "execution_count": null,
   "id": "2da51535",
   "metadata": {},
   "outputs": [],
   "source": [
    "components = components_o.iloc[:,:2].join(components_p.iloc[:,:2], lsuffix=\"_o\", rsuffix=\"_p\")\n",
    "components"
   ]
  },
  {
   "cell_type": "code",
   "execution_count": null,
   "id": "b9d96377",
   "metadata": {},
   "outputs": [],
   "source": [
    "_, ax = plt.subplots()\n",
    "ax.scatter(components.loc[:, \"PC1_o\"], components.loc[:, \"PC2_o\"])\n",
    "ax.scatter(components.loc[:, \"PC1_p\"], components.loc[:, \"PC2_p\"], c=\"r\")"
   ]
  },
  {
   "cell_type": "markdown",
   "id": "12785b33",
   "metadata": {},
   "source": [
    "## d"
   ]
  },
  {
   "cell_type": "code",
   "execution_count": null,
   "id": "6d456a0f",
   "metadata": {},
   "outputs": [],
   "source": [
    "INFO_RATIO = 0.9\n",
    "\n",
    "cumulative_proportion_o = np.cumsum(pcs_o.explained_variance_ratio_)\n",
    "\n",
    "for i, j in enumerate(cumulative_proportion_o):\n",
    "    if j >= INFO_RATIO:\n",
    "        num_of_pc = i + 1\n",
    "        break\n",
    "\n",
    "num_of_pc"
   ]
  },
  {
   "cell_type": "code",
   "execution_count": null,
   "id": "04e1bee8",
   "metadata": {},
   "outputs": [],
   "source": [
    "\n",
    "cumulative_proportion_p = np.cumsum(pcs_p.explained_variance_ratio_)\n",
    "\n",
    "for i, j in enumerate(cumulative_proportion_p):\n",
    "    if j >= INFO_RATIO:\n",
    "        num_of_pc = i + 1\n",
    "        break\n",
    "\n",
    "num_of_pc"
   ]
  },
  {
   "cell_type": "markdown",
   "id": "210581cf",
   "metadata": {},
   "source": [
    "1 for original data and 7 for preprocessed data."
   ]
  },
  {
   "cell_type": "markdown",
   "id": "c8cea626",
   "metadata": {},
   "source": [
    "# Problem 4"
   ]
  },
  {
   "cell_type": "markdown",
   "id": "a5cdf0f2",
   "metadata": {},
   "source": [
    "See attached file."
   ]
  }
 ],
 "metadata": {
  "kernelspec": {
   "display_name": "ink",
   "language": "python",
   "name": "python3"
  },
  "language_info": {
   "codemirror_mode": {
    "name": "ipython",
    "version": 3
   },
   "file_extension": ".py",
   "mimetype": "text/x-python",
   "name": "python",
   "nbconvert_exporter": "python",
   "pygments_lexer": "ipython3",
   "version": "3.11.1 (tags/v3.11.1:a7a450f, Dec  6 2022, 19:58:39) [MSC v.1934 64 bit (AMD64)]"
  },
  "vscode": {
   "interpreter": {
    "hash": "63c39743f639f3c46951a03907d4fb53ddc9f1051a7ffa803df088dddd89abd3"
   }
  }
 },
 "nbformat": 4,
 "nbformat_minor": 5
}
